{
 "cells": [
  {
   "cell_type": "code",
   "execution_count": 1,
   "metadata": {},
   "outputs": [],
   "source": [
    "from util.util import table_to_dataframe, get_table_names\n",
    "import pandas as pd"
   ]
  },
  {
   "cell_type": "code",
   "execution_count": 2,
   "metadata": {},
   "outputs": [
    {
     "name": "stdout",
     "output_type": "stream",
     "text": [
      "005860\n"
     ]
    }
   ],
   "source": [
    "databaseB = \"A20240116\"\n",
    "password = '93150lbm!!'\n",
    "tables = get_table_names('127.0.0.1', 'root', password, databaseB)\n",
    "\n",
    "code = tables[0][0]\n",
    "print(code)"
   ]
  },
  {
   "cell_type": "code",
   "execution_count": 3,
   "metadata": {},
   "outputs": [
    {
     "name": "stderr",
     "output_type": "stream",
     "text": [
      "c:\\Users\\pari0\\Desktop\\simulator_test\\util\\util.py:53: UserWarning: pandas only supports SQLAlchemy connectable (engine/connection) or database string URI or sqlite3 DBAPI2 connection. Other DBAPI2 objects are not tested. Please consider using SQLAlchemy.\n",
      "  df = pd.read_sql(query, conn)\n"
     ]
    },
    {
     "data": {
      "text/plain": [
       "array([[4640, '-16'],\n",
       "       [4640, '-30'],\n",
       "       [4640, '-50'],\n",
       "       ...,\n",
       "       [4615, '+1'],\n",
       "       [4615, '+1'],\n",
       "       [4615, '+1']], dtype=object)"
      ]
     },
     "execution_count": 3,
     "metadata": {},
     "output_type": "execute_result"
    }
   ],
   "source": [
    "df = table_to_dataframe('127.0.0.1', 'root', password, databaseB, code)\n",
    "df['체결시간'] = pd.to_datetime(df['체결시간'])\n",
    "df = df.sort_values(by='체결시간', ignore_index=True)\n",
    "df['time_diff'] = df['체결시간'].diff().dt.total_seconds()\n",
    "df['현재가'] = pd.to_numeric(df['현재가'].astype(str).str.replace('+','').str.replace('-',''), errors='coerce')\n",
    "df = df.dropna()\n",
    "\n",
    "\n",
    "\n",
    "time_val = df['time_diff'].values\n",
    "chaegul_data = df[['현재가','거래량']].values\n",
    "\n",
    "chaegul_data"
   ]
  },
  {
   "cell_type": "code",
   "execution_count": 4,
   "metadata": {},
   "outputs": [
    {
     "name": "stdout",
     "output_type": "stream",
     "text": [
      "4640 -16\n"
     ]
    }
   ],
   "source": [
    "price,amount =chaegul_data[0]\n",
    "\n",
    "print(price,amount)"
   ]
  },
  {
   "cell_type": "code",
   "execution_count": 5,
   "metadata": {},
   "outputs": [
    {
     "ename": "SystemExit",
     "evalue": "0",
     "output_type": "error",
     "traceback": [
      "An exception has occurred, use %tb to see the full traceback.\n",
      "\u001b[1;31mSystemExit\u001b[0m\u001b[1;31m:\u001b[0m 0\n"
     ]
    },
    {
     "name": "stderr",
     "output_type": "stream",
     "text": [
      "c:\\Users\\pari0\\anaconda3\\envs\\simulator\\lib\\site-packages\\IPython\\core\\interactiveshell.py:3561: UserWarning: To exit: use 'exit', 'quit', or Ctrl-D.\n",
      "  warn(\"To exit: use 'exit', 'quit', or Ctrl-D.\", stacklevel=1)\n"
     ]
    }
   ],
   "source": [
    "import sys\n",
    "from PyQt5.QtWidgets import QApplication, QWidget, QTableWidget, QTableWidgetItem, QVBoxLayout, QPushButton\n",
    "from PyQt5.QtGui import QColor\n",
    "from PyQt5.QtWidgets import (QApplication, QWidget\n",
    ", QLineEdit, QTextBrowser, QPushButton, QVBoxLayout)\n",
    "from PyQt5.QtWidgets import QApplication, QWidget, QTableWidget, QTableWidgetItem, QVBoxLayout, QProgressBar\n",
    "from PyQt5.QtCore import QTimer\n",
    "\n",
    "class MyApp(QWidget):\n",
    "\n",
    "    def __init__(self, time, chaegul_data):\n",
    "        super().__init__()\n",
    "        self.chaegul_data = chaegul_data\n",
    "        self.time = time \n",
    "        self.current_step = 0 \n",
    "        self.initUI()\n",
    "\n",
    "    def initUI(self):\n",
    "        self.timer = QTimer(self)\n",
    "        self.timer.timeout.connect(self.append_text)\n",
    "        self.startNextTimer()\n",
    "\n",
    "        self.table = QTableWidget(0, 2)  # 0 rows and 2 columns\n",
    "        self.table.setHorizontalHeaderLabels(['Price', 'Amount'])\n",
    "\n",
    "        self.clear_btn = QPushButton('Clear')\n",
    "        self.clear_btn.pressed.connect(self.clear_table)\n",
    "\n",
    "        vbox = QVBoxLayout()\n",
    "        vbox.addWidget(self.table, 0)\n",
    "        vbox.addWidget(self.clear_btn, 1)\n",
    "\n",
    "        self.setLayout(vbox)\n",
    "\n",
    "        self.setWindowTitle('Dynamic QTableWidget')\n",
    "        self.setGeometry(300, 300, 300, 300)\n",
    "        self.show()\n",
    "\n",
    "    def append_text(self):\n",
    "        price, amount = self.chaegul_data[self.current_step]\n",
    "        \n",
    "        # Insert a new row at the beginning\n",
    "        self.table.insertRow(0)\n",
    "\n",
    "        # Create QTableWidgetItem for price and amount\n",
    "        price_item = QTableWidgetItem(str(price))\n",
    "        amount_item = QTableWidgetItem(amount)\n",
    "\n",
    "        # Set color based on condition\n",
    "        if '+' in amount:\n",
    "            color = QColor('red')\n",
    "        elif '-' in amount:\n",
    "            color = QColor('blue')\n",
    "        \n",
    "        # color_black = QColor('black')\n",
    "\n",
    "        price_item.setForeground(color)\n",
    "        amount_item.setForeground(color)\n",
    "\n",
    "        # Add items to the table\n",
    "        self.table.setItem(0, 0, price_item)\n",
    "        self.table.setItem(0, 1, amount_item)\n",
    "\n",
    "        self.current_step += 1\n",
    "        self.startNextTimer()\n",
    "\n",
    "    def startNextTimer(self):\n",
    "        if self.current_step < len(self.time):\n",
    "            interval = int(self.time[self.current_step] * 1000)\n",
    "            self.timer.start(interval)\n",
    "        else:\n",
    "            self.timer.stop()\n",
    "\n",
    "    def clear_table(self):\n",
    "        self.table.setRowCount(0)\n",
    "\n",
    "if __name__ == '__main__':\n",
    "    app = QApplication(sys.argv)\n",
    "    ex = MyApp(time_val, chaegul_data)\n",
    "    sys.exit(app.exec_())\n"
   ]
  },
  {
   "cell_type": "code",
   "execution_count": null,
   "metadata": {},
   "outputs": [
    {
     "ename": "KeyboardInterrupt",
     "evalue": "",
     "output_type": "error",
     "traceback": [
      "\u001b[1;31m---------------------------------------------------------------------------\u001b[0m",
      "\u001b[1;31mKeyboardInterrupt\u001b[0m                         Traceback (most recent call last)",
      "Cell \u001b[1;32mIn[5], line 46\u001b[0m, in \u001b[0;36mMyApp.append_text\u001b[1;34m(self)\u001b[0m\n\u001b[0;32m     43\u001b[0m     \u001b[38;5;28mself\u001b[39m\u001b[38;5;241m.\u001b[39msetGeometry(\u001b[38;5;241m300\u001b[39m, \u001b[38;5;241m300\u001b[39m, \u001b[38;5;241m300\u001b[39m, \u001b[38;5;241m300\u001b[39m)\n\u001b[0;32m     44\u001b[0m     \u001b[38;5;28mself\u001b[39m\u001b[38;5;241m.\u001b[39mshow()\n\u001b[1;32m---> 46\u001b[0m \u001b[38;5;28;01mdef\u001b[39;00m \u001b[38;5;21mappend_text\u001b[39m(\u001b[38;5;28mself\u001b[39m):\n\u001b[0;32m     47\u001b[0m     \u001b[38;5;66;03m# new_text = self.le.text()\u001b[39;00m\n\u001b[0;32m     48\u001b[0m     price, amount \u001b[38;5;241m=\u001b[39m \u001b[38;5;28mself\u001b[39m\u001b[38;5;241m.\u001b[39mchaegul_data[\u001b[38;5;28mself\u001b[39m\u001b[38;5;241m.\u001b[39mcurrent_step]\n\u001b[0;32m     49\u001b[0m     new_text \u001b[38;5;241m=\u001b[39m \u001b[38;5;28mstr\u001b[39m(price) \u001b[38;5;241m+\u001b[39m \u001b[38;5;124m'\u001b[39m\u001b[38;5;124m / \u001b[39m\u001b[38;5;124m'\u001b[39m \u001b[38;5;241m+\u001b[39m amount\n",
      "\u001b[1;31mKeyboardInterrupt\u001b[0m: "
     ]
    },
    {
     "ename": "SystemExit",
     "evalue": "0",
     "output_type": "error",
     "traceback": [
      "An exception has occurred, use %tb to see the full traceback.\n",
      "\u001b[1;31mSystemExit\u001b[0m\u001b[1;31m:\u001b[0m 0\n"
     ]
    },
    {
     "name": "stderr",
     "output_type": "stream",
     "text": [
      "c:\\Users\\pari0\\anaconda3\\envs\\simulator\\lib\\site-packages\\IPython\\core\\interactiveshell.py:3561: UserWarning: To exit: use 'exit', 'quit', or Ctrl-D.\n",
      "  warn(\"To exit: use 'exit', 'quit', or Ctrl-D.\", stacklevel=1)\n"
     ]
    }
   ],
   "source": [
    "## Ex 5-19. QTextBrowser.\n",
    "\n",
    "import sys\n",
    "from PyQt5.QtWidgets import (QApplication, QWidget\n",
    ", QLineEdit, QTextBrowser, QPushButton, QVBoxLayout)\n",
    "from PyQt5.QtWidgets import QApplication, QWidget, QTableWidget, QTableWidgetItem, QVBoxLayout, QProgressBar\n",
    "from PyQt5.QtCore import QTimer\n",
    "\n",
    "\n",
    "class MyApp(QWidget):\n",
    "\n",
    "    def __init__(self,time, chaegul_data):\n",
    "        super().__init__()\n",
    "        self.chaegul_data = chaegul_data\n",
    "        self.time = time \n",
    "        self.current_step = 0 \n",
    "        self.text_lines = [] \n",
    "        self.initUI()\n",
    "\n",
    "    def initUI(self):\n",
    "        # self.le = QLineEdit()\n",
    "        # self.le.returnPressed.connect(self.append_text)\n",
    "        \n",
    "        self.timer = QTimer(self)\n",
    "        self.timer.timeout.connect(self.append_text)\n",
    "        self.startNextTimer()\n",
    "\n",
    "        self.tb = QTextBrowser()\n",
    "        self.tb.setAcceptRichText(True)\n",
    "        self.tb.setOpenExternalLinks(True)\n",
    "\n",
    "        self.clear_btn = QPushButton('Clear')\n",
    "        self.clear_btn.pressed.connect(self.clear_text)\n",
    "\n",
    "        vbox = QVBoxLayout()\n",
    "        # vbox.addWidget(self.le, 0)\n",
    "        vbox.addWidget(self.tb, 0)\n",
    "        vbox.addWidget(self.clear_btn, 1)\n",
    "\n",
    "        self.setLayout(vbox)\n",
    "\n",
    "        self.setWindowTitle('QTextBrowser')\n",
    "        self.setGeometry(300, 300, 300, 300)\n",
    "        self.show()\n",
    "\n",
    "    def append_text(self):\n",
    "        # new_text = self.le.text()\n",
    "        price, amount = self.chaegul_data[self.current_step]\n",
    "        new_text = str(price) + ' / ' + amount\n",
    "        \n",
    "        if '+' in amount : \n",
    "            color = 'red'\n",
    "        elif '-' in amount : \n",
    "            color = 'blue'\n",
    "        # colored_text = f'<span style=\"color:{color};\">{new_text}</span>'\n",
    "        colored_text = f'<span style=\"color:{color};\">{new_text}</span>'\n",
    "        self.text_lines.append(colored_text)\n",
    "        \n",
    "        \n",
    "        reversed_html_text = '<br>'.join(reversed(self.text_lines))\n",
    "        \n",
    "        # Set the HTML content in QTextBrowser\n",
    "        self.tb.setHtml(reversed_html_text)\n",
    "        \n",
    "        # current_text = self.tb.toPlainText()\n",
    "        # combined_text = new_text + '\\n' + current_text  \n",
    "        # self.tb.setPlainText(combined_text)\n",
    "        \n",
    "        # self.tb.insertHtml(colored_text + '<br>' + current_text) \n",
    "        self.current_step += 1\n",
    "        \n",
    "    def startNextTimer(self):\n",
    "        if self.current_step < len(self.time):\n",
    "            interval = int(self.time[self.current_step] * 10)\n",
    "            self.timer.start(interval)\n",
    "        else:\n",
    "            self.timer.stop() \n",
    "\n",
    "\n",
    "\n",
    "    def clear_text(self):\n",
    "        self.tb.clear()\n",
    "\n",
    "\n",
    "if __name__ == '__main__':\n",
    "    app = QApplication(sys.argv)\n",
    "    ex = MyApp(time_val,chaegul_data)\n",
    "    sys.exit(app.exec_())\n"
   ]
  }
 ],
 "metadata": {
  "kernelspec": {
   "display_name": "simulator",
   "language": "python",
   "name": "python3"
  },
  "language_info": {
   "codemirror_mode": {
    "name": "ipython",
    "version": 3
   },
   "file_extension": ".py",
   "mimetype": "text/x-python",
   "name": "python",
   "nbconvert_exporter": "python",
   "pygments_lexer": "ipython3",
   "version": "3.10.13"
  }
 },
 "nbformat": 4,
 "nbformat_minor": 2
}
