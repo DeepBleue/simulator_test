{
 "cells": [
  {
   "cell_type": "code",
   "execution_count": 1,
   "metadata": {},
   "outputs": [
    {
     "ename": "SystemExit",
     "evalue": "0",
     "output_type": "error",
     "traceback": [
      "An exception has occurred, use %tb to see the full traceback.\n",
      "\u001b[1;31mSystemExit\u001b[0m\u001b[1;31m:\u001b[0m 0\n"
     ]
    },
    {
     "name": "stderr",
     "output_type": "stream",
     "text": [
      "c:\\Users\\pari0\\anaconda3\\envs\\simulator\\lib\\site-packages\\IPython\\core\\interactiveshell.py:3561: UserWarning: To exit: use 'exit', 'quit', or Ctrl-D.\n",
      "  warn(\"To exit: use 'exit', 'quit', or Ctrl-D.\", stacklevel=1)\n"
     ]
    }
   ],
   "source": [
    "## Ex 3-1. 창 띄우기.\n",
    "import sys\n",
    "from PyQt5.QtWidgets import QApplication, QWidget\n",
    "\n",
    "\n",
    "class MyApp(QWidget):\n",
    "\n",
    "    def __init__(self):\n",
    "        super().__init__()\n",
    "        self.initUI()\n",
    "\n",
    "    def initUI(self):\n",
    "        self.setWindowTitle('My First Application')\n",
    "        self.move(300, 300)\n",
    "        self.resize(400, 200)\n",
    "        self.show()\n",
    "\n",
    "\n",
    "if __name__ == '__main__':\n",
    "   app = QApplication(sys.argv)\n",
    "   ex = MyApp()\n",
    "   sys.exit(app.exec_())\n"
   ]
  },
  {
   "cell_type": "code",
   "execution_count": 1,
   "metadata": {},
   "outputs": [
    {
     "ename": "SystemExit",
     "evalue": "0",
     "output_type": "error",
     "traceback": [
      "An exception has occurred, use %tb to see the full traceback.\n",
      "\u001b[1;31mSystemExit\u001b[0m\u001b[1;31m:\u001b[0m 0\n"
     ]
    },
    {
     "name": "stderr",
     "output_type": "stream",
     "text": [
      "c:\\Users\\pari0\\anaconda3\\envs\\simulator\\lib\\site-packages\\IPython\\core\\interactiveshell.py:3561: UserWarning: To exit: use 'exit', 'quit', or Ctrl-D.\n",
      "  warn(\"To exit: use 'exit', 'quit', or Ctrl-D.\", stacklevel=1)\n"
     ]
    }
   ],
   "source": [
    "## Ex 3-2. 어플리케이션 아이콘 넣기.\n",
    "\n",
    "import sys\n",
    "from PyQt5.QtWidgets import QApplication, QWidget\n",
    "from PyQt5.QtGui import QIcon\n",
    "\n",
    "\n",
    "class MyApp(QWidget):\n",
    "\n",
    "  def __init__(self):\n",
    "      super().__init__()\n",
    "      self.initUI()\n",
    "\n",
    "  def initUI(self):\n",
    "      self.setWindowTitle('Icon')\n",
    "      self.setWindowIcon(QIcon('web.png'))\n",
    "      self.setGeometry(300, 300, 300, 200)\n",
    "      self.show()\n",
    "\n",
    "\n",
    "if __name__ == '__main__':\n",
    "  app = QApplication(sys.argv)\n",
    "  ex = MyApp()\n",
    "  sys.exit(app.exec_())\n"
   ]
  },
  {
   "cell_type": "code",
   "execution_count": 1,
   "metadata": {},
   "outputs": [
    {
     "ename": "SystemExit",
     "evalue": "0",
     "output_type": "error",
     "traceback": [
      "An exception has occurred, use %tb to see the full traceback.\n",
      "\u001b[1;31mSystemExit\u001b[0m\u001b[1;31m:\u001b[0m 0\n"
     ]
    },
    {
     "name": "stderr",
     "output_type": "stream",
     "text": [
      "c:\\Users\\pari0\\anaconda3\\envs\\simulator\\lib\\site-packages\\IPython\\core\\interactiveshell.py:3561: UserWarning: To exit: use 'exit', 'quit', or Ctrl-D.\n",
      "  warn(\"To exit: use 'exit', 'quit', or Ctrl-D.\", stacklevel=1)\n"
     ]
    },
    {
     "ename": "",
     "evalue": "",
     "output_type": "error",
     "traceback": [
      "\u001b[1;31mThe Kernel crashed while executing code in the the current cell or a previous cell. Please review the code in the cell(s) to identify a possible cause of the failure. Click <a href='https://aka.ms/vscodeJupyterKernelCrash'>here</a> for more info. View Jupyter <a href='command:jupyter.viewOutput'>log</a> for further details."
     ]
    }
   ],
   "source": [
    "## Ex 3-3. 창 닫기.\n",
    "\n",
    "import sys\n",
    "from PyQt5.QtWidgets import QApplication, QWidget, QPushButton\n",
    "from PyQt5.QtCore import QCoreApplication\n",
    "\n",
    "\n",
    "class MyApp(QWidget):\n",
    "\n",
    "  def __init__(self):\n",
    "      super().__init__()\n",
    "      self.initUI()\n",
    "\n",
    "  def initUI(self):\n",
    "      btn = QPushButton('Quit', self)\n",
    "      btn.move(50, 50)\n",
    "      btn.resize(btn.sizeHint())\n",
    "      btn.clicked.connect(QCoreApplication.instance().quit)\n",
    "\n",
    "      self.setWindowTitle('Quit Button')\n",
    "      self.setGeometry(300, 300, 300, 200)\n",
    "      self.show()\n",
    "\n",
    "\n",
    "if __name__ == '__main__':\n",
    "    app = QApplication(sys.argv)\n",
    "    ex = MyApp()\n",
    "    sys.exit(app.exec_())\n"
   ]
  },
  {
   "cell_type": "code",
   "execution_count": 1,
   "metadata": {},
   "outputs": [
    {
     "ename": "SystemExit",
     "evalue": "0",
     "output_type": "error",
     "traceback": [
      "An exception has occurred, use %tb to see the full traceback.\n",
      "\u001b[1;31mSystemExit\u001b[0m\u001b[1;31m:\u001b[0m 0\n"
     ]
    },
    {
     "name": "stderr",
     "output_type": "stream",
     "text": [
      "c:\\Users\\pari0\\anaconda3\\envs\\simulator\\lib\\site-packages\\IPython\\core\\interactiveshell.py:3561: UserWarning: To exit: use 'exit', 'quit', or Ctrl-D.\n",
      "  warn(\"To exit: use 'exit', 'quit', or Ctrl-D.\", stacklevel=1)\n"
     ]
    }
   ],
   "source": [
    "## Ex 3-4. 툴팁 나타내기.\n",
    "\n",
    "import sys\n",
    "from PyQt5.QtWidgets import QApplication, QWidget, QPushButton, QToolTip\n",
    "from PyQt5.QtGui import QFont\n",
    "\n",
    "\n",
    "class MyApp(QWidget):\n",
    "\n",
    "    def __init__(self):\n",
    "        super().__init__()\n",
    "        self.initUI()\n",
    "\n",
    "    def initUI(self):\n",
    "        QToolTip.setFont(QFont('SansSerif', 10))\n",
    "        self.setToolTip('This is a <b>QWidget</b> widget')\n",
    "\n",
    "        btn = QPushButton('Button', self)\n",
    "        btn.setToolTip('This is a <b>QPushButton</b> widget')\n",
    "        btn.move(50, 50)\n",
    "        btn.resize(btn.sizeHint())\n",
    "\n",
    "        self.setWindowTitle('Tooltips')\n",
    "        self.setGeometry(300, 300, 300, 200)\n",
    "        self.show()\n",
    "\n",
    "\n",
    "if __name__ == '__main__':\n",
    "    app = QApplication(sys.argv)\n",
    "    ex = MyApp()\n",
    "    sys.exit(app.exec_())\n"
   ]
  },
  {
   "cell_type": "code",
   "execution_count": 1,
   "metadata": {},
   "outputs": [
    {
     "ename": "SystemExit",
     "evalue": "0",
     "output_type": "error",
     "traceback": [
      "An exception has occurred, use %tb to see the full traceback.\n",
      "\u001b[1;31mSystemExit\u001b[0m\u001b[1;31m:\u001b[0m 0\n"
     ]
    },
    {
     "name": "stderr",
     "output_type": "stream",
     "text": [
      "c:\\Users\\pari0\\anaconda3\\envs\\simulator\\lib\\site-packages\\IPython\\core\\interactiveshell.py:3561: UserWarning: To exit: use 'exit', 'quit', or Ctrl-D.\n",
      "  warn(\"To exit: use 'exit', 'quit', or Ctrl-D.\", stacklevel=1)\n"
     ]
    }
   ],
   "source": [
    "## Ex 3-5. 상태바 만들기.\n",
    "\n",
    "import sys\n",
    "from PyQt5.QtWidgets import QApplication, QMainWindow\n",
    "\n",
    "\n",
    "class MyApp(QMainWindow):\n",
    "\n",
    "    def __init__(self):\n",
    "        super().__init__()\n",
    "        self.initUI()\n",
    "\n",
    "    def initUI(self):\n",
    "        self.statusBar().showMessage('Ready')\n",
    "\n",
    "        self.setWindowTitle('Statusbar')\n",
    "        self.setGeometry(300, 300, 300, 200)\n",
    "        self.show()\n",
    "\n",
    "\n",
    "if __name__ == '__main__':\n",
    "    app = QApplication(sys.argv)\n",
    "    ex = MyApp()\n",
    "    sys.exit(app.exec_())\n"
   ]
  },
  {
   "cell_type": "code",
   "execution_count": 1,
   "metadata": {},
   "outputs": [
    {
     "ename": "SystemExit",
     "evalue": "0",
     "output_type": "error",
     "traceback": [
      "An exception has occurred, use %tb to see the full traceback.\n",
      "\u001b[1;31mSystemExit\u001b[0m\u001b[1;31m:\u001b[0m 0\n"
     ]
    },
    {
     "name": "stderr",
     "output_type": "stream",
     "text": [
      "c:\\Users\\pari0\\anaconda3\\envs\\simulator\\lib\\site-packages\\IPython\\core\\interactiveshell.py:3561: UserWarning: To exit: use 'exit', 'quit', or Ctrl-D.\n",
      "  warn(\"To exit: use 'exit', 'quit', or Ctrl-D.\", stacklevel=1)\n"
     ]
    },
    {
     "ename": "",
     "evalue": "",
     "output_type": "error",
     "traceback": [
      "\u001b[1;31mThe Kernel crashed while executing code in the the current cell or a previous cell. Please review the code in the cell(s) to identify a possible cause of the failure. Click <a href='https://aka.ms/vscodeJupyterKernelCrash'>here</a> for more info. View Jupyter <a href='command:jupyter.viewOutput'>log</a> for further details."
     ]
    }
   ],
   "source": [
    "## Ex 3-6. 메뉴바 만들기.\n",
    "\n",
    "import sys\n",
    "from PyQt5.QtWidgets import QApplication, QMainWindow, QAction, qApp\n",
    "from PyQt5.QtGui import QIcon\n",
    "\n",
    "\n",
    "class MyApp(QMainWindow):\n",
    "\n",
    "    def __init__(self):\n",
    "        super().__init__()\n",
    "        self.initUI()\n",
    "\n",
    "    def initUI(self):\n",
    "        exitAction = QAction(QIcon('exit.png'), 'Exit', self)\n",
    "        exitAction.setShortcut('Ctrl+Q')\n",
    "        exitAction.setStatusTip('Exit application')\n",
    "        exitAction.triggered.connect(qApp.quit)\n",
    "\n",
    "        self.statusBar()\n",
    "\n",
    "        menubar = self.menuBar()\n",
    "        menubar.setNativeMenuBar(False)\n",
    "        filemenu = menubar.addMenu('&File')\n",
    "        filemenu.addAction(exitAction)\n",
    "\n",
    "        self.setWindowTitle('Menubar')\n",
    "        self.setGeometry(300, 300, 300, 200)\n",
    "        self.show()\n",
    "\n",
    "\n",
    "if __name__ == '__main__':\n",
    "    app = QApplication(sys.argv)\n",
    "    ex = MyApp()\n",
    "    sys.exit(app.exec_())\n"
   ]
  },
  {
   "cell_type": "code",
   "execution_count": 1,
   "metadata": {},
   "outputs": [
    {
     "ename": "SystemExit",
     "evalue": "0",
     "output_type": "error",
     "traceback": [
      "An exception has occurred, use %tb to see the full traceback.\n",
      "\u001b[1;31mSystemExit\u001b[0m\u001b[1;31m:\u001b[0m 0\n"
     ]
    },
    {
     "name": "stderr",
     "output_type": "stream",
     "text": [
      "c:\\Users\\pari0\\anaconda3\\envs\\simulator\\lib\\site-packages\\IPython\\core\\interactiveshell.py:3561: UserWarning: To exit: use 'exit', 'quit', or Ctrl-D.\n",
      "  warn(\"To exit: use 'exit', 'quit', or Ctrl-D.\", stacklevel=1)\n"
     ]
    },
    {
     "ename": "",
     "evalue": "",
     "output_type": "error",
     "traceback": [
      "\u001b[1;31mThe Kernel crashed while executing code in the the current cell or a previous cell. Please review the code in the cell(s) to identify a possible cause of the failure. Click <a href='https://aka.ms/vscodeJupyterKernelCrash'>here</a> for more info. View Jupyter <a href='command:jupyter.viewOutput'>log</a> for further details."
     ]
    }
   ],
   "source": [
    "## Ex 3-7. 툴바 만들기.\n",
    "\n",
    "import sys\n",
    "from PyQt5.QtWidgets import QApplication, QMainWindow, QAction, qApp\n",
    "from PyQt5.QtGui import QIcon\n",
    "\n",
    "\n",
    "class MyApp(QMainWindow):\n",
    "\n",
    "    def __init__(self):\n",
    "        super().__init__()\n",
    "        self.initUI()\n",
    "\n",
    "    def initUI(self):\n",
    "        exitAction = QAction(QIcon('exit.png'), 'Exit', self)\n",
    "        exitAction.setShortcut('Ctrl+Q')\n",
    "        exitAction.setStatusTip('Exit application')\n",
    "        exitAction.triggered.connect(qApp.quit)\n",
    "\n",
    "        self.statusBar()\n",
    "\n",
    "        self.toolbar = self.addToolBar('Exit')\n",
    "        self.toolbar.addAction(exitAction)\n",
    "\n",
    "        self.setWindowTitle('Toolbar')\n",
    "        self.setGeometry(300, 300, 300, 200)\n",
    "        self.show()\n",
    "\n",
    "\n",
    "if __name__ == '__main__':\n",
    "    app = QApplication(sys.argv)\n",
    "    ex = MyApp()\n",
    "    sys.exit(app.exec_())\n"
   ]
  },
  {
   "cell_type": "code",
   "execution_count": 1,
   "metadata": {},
   "outputs": [
    {
     "ename": "SystemExit",
     "evalue": "0",
     "output_type": "error",
     "traceback": [
      "An exception has occurred, use %tb to see the full traceback.\n",
      "\u001b[1;31mSystemExit\u001b[0m\u001b[1;31m:\u001b[0m 0\n"
     ]
    },
    {
     "name": "stderr",
     "output_type": "stream",
     "text": [
      "c:\\Users\\pari0\\anaconda3\\envs\\simulator\\lib\\site-packages\\IPython\\core\\interactiveshell.py:3561: UserWarning: To exit: use 'exit', 'quit', or Ctrl-D.\n",
      "  warn(\"To exit: use 'exit', 'quit', or Ctrl-D.\", stacklevel=1)\n"
     ]
    }
   ],
   "source": [
    "## Ex 3-8. 창을 화면의 가운데로.\n",
    "\n",
    "import sys\n",
    "from PyQt5.QtWidgets import QApplication, QWidget, QDesktopWidget\n",
    "\n",
    "\n",
    "class MyApp(QWidget):\n",
    "\n",
    "    def __init__(self):\n",
    "        super().__init__()\n",
    "        self.initUI()\n",
    "\n",
    "    def initUI(self):\n",
    "        self.setWindowTitle('Centering')\n",
    "        self.resize(500, 350)\n",
    "        self.center()\n",
    "        self.show()\n",
    "\n",
    "    def center(self):\n",
    "        qr = self.frameGeometry()\n",
    "        cp = QDesktopWidget().availableGeometry().center()\n",
    "        qr.moveCenter(cp)\n",
    "        self.move(qr.topLeft())\n",
    "\n",
    "\n",
    "if __name__ == '__main__':\n",
    "    app = QApplication(sys.argv)\n",
    "    ex = MyApp()\n",
    "    sys.exit(app.exec_())\n"
   ]
  },
  {
   "cell_type": "code",
   "execution_count": 1,
   "metadata": {},
   "outputs": [
    {
     "name": "stdout",
     "output_type": "stream",
     "text": [
      "금 1 19 2024\n"
     ]
    }
   ],
   "source": [
    "from PyQt5.QtCore import QDate\n",
    "\n",
    "now = QDate.currentDate()\n",
    "print(now.toString())\n"
   ]
  },
  {
   "cell_type": "code",
   "execution_count": 3,
   "metadata": {},
   "outputs": [
    {
     "name": "stdout",
     "output_type": "stream",
     "text": [
      "19.1.24\n",
      "19.01.2024\n",
      "금.1월.2024\n",
      "2024-01-19\n",
      "2024년 1월 19일 금요일\n",
      "19 Jan 2024\n"
     ]
    }
   ],
   "source": [
    "from PyQt5.QtCore import QDate, Qt\n",
    "\n",
    "now = QDate.currentDate()\n",
    "print(now.toString('d.M.yy'))\n",
    "print(now.toString('dd.MM.yyyy'))\n",
    "print(now.toString('ddd.MMMM.yyyy'))\n",
    "print(now.toString(Qt.ISODate))\n",
    "print(now.toString(Qt.DefaultLocaleLongDate))\n",
    "print(now.toString(Qt.RFC2822Date))\n"
   ]
  },
  {
   "cell_type": "code",
   "execution_count": 4,
   "metadata": {},
   "outputs": [
    {
     "name": "stdout",
     "output_type": "stream",
     "text": [
      "13:57:32\n"
     ]
    }
   ],
   "source": [
    "from PyQt5.QtCore import QTime\n",
    "\n",
    "time = QTime.currentTime()\n",
    "print(time.toString())\n"
   ]
  },
  {
   "cell_type": "code",
   "execution_count": 8,
   "metadata": {},
   "outputs": [
    {
     "name": "stdout",
     "output_type": "stream",
     "text": [
      "13.58.2\n",
      "13.58.02\n",
      "13.58.02.01001\n",
      "오후 1:58:02\n",
      "오후 1:58\n"
     ]
    }
   ],
   "source": [
    "from PyQt5.QtCore import QTime, Qt\n",
    "\n",
    "time = QTime.currentTime()\n",
    "print(time.toString('h.m.s'))\n",
    "print(time.toString('hh.mm.ss'))\n",
    "print(time.toString('hh.mm.ss.zzzz'))\n",
    "print(time.toString(Qt.DefaultLocaleLongDate))\n",
    "print(time.toString(Qt.DefaultLocaleShortDate))\n"
   ]
  },
  {
   "cell_type": "code",
   "execution_count": 9,
   "metadata": {},
   "outputs": [
    {
     "name": "stdout",
     "output_type": "stream",
     "text": [
      "금 1 19 13:58:19 2024\n"
     ]
    }
   ],
   "source": [
    "from PyQt5.QtCore import QDateTime\n",
    "\n",
    "datetime = QDateTime.currentDateTime()\n",
    "print(datetime.toString())\n"
   ]
  },
  {
   "cell_type": "code",
   "execution_count": 10,
   "metadata": {},
   "outputs": [
    {
     "name": "stdout",
     "output_type": "stream",
     "text": [
      "19.1.24 13:58:24\n",
      "19.01.2024, 13:58:24\n",
      "2024년 1월 19일 금요일 오후 1:58:24\n",
      "2024-01-19 오후 1:58\n"
     ]
    }
   ],
   "source": [
    "from PyQt5.QtCore import QDateTime, Qt\n",
    "\n",
    "datetime = QDateTime.currentDateTime()\n",
    "print(datetime.toString('d.M.yy hh:mm:ss'))\n",
    "print(datetime.toString('dd.MM.yyyy, hh:mm:ss'))\n",
    "print(datetime.toString(Qt.DefaultLocaleLongDate))\n",
    "print(datetime.toString(Qt.DefaultLocaleShortDate))\n"
   ]
  },
  {
   "cell_type": "code",
   "execution_count": 11,
   "metadata": {},
   "outputs": [
    {
     "ename": "SystemExit",
     "evalue": "0",
     "output_type": "error",
     "traceback": [
      "An exception has occurred, use %tb to see the full traceback.\n",
      "\u001b[1;31mSystemExit\u001b[0m\u001b[1;31m:\u001b[0m 0\n"
     ]
    },
    {
     "name": "stderr",
     "output_type": "stream",
     "text": [
      "c:\\Users\\pari0\\anaconda3\\envs\\simulator\\lib\\site-packages\\IPython\\core\\interactiveshell.py:3561: UserWarning: To exit: use 'exit', 'quit', or Ctrl-D.\n",
      "  warn(\"To exit: use 'exit', 'quit', or Ctrl-D.\", stacklevel=1)\n"
     ]
    }
   ],
   "source": [
    "## Ex 3-9. 날짜와 시간 표시하기.\n",
    "\n",
    "import sys\n",
    "from PyQt5.QtWidgets import QApplication, QMainWindow\n",
    "from PyQt5.QtCore import QDate, Qt\n",
    "\n",
    "\n",
    "class MyApp(QMainWindow):\n",
    "\n",
    "    def __init__(self):\n",
    "        super().__init__()\n",
    "        self.date = QDate.currentDate()\n",
    "        self.initUI()\n",
    "\n",
    "    def initUI(self):\n",
    "        self.statusBar().showMessage(self.date.toString(Qt.DefaultLocaleLongDate))\n",
    "\n",
    "        self.setWindowTitle('Date')\n",
    "        self.setGeometry(300, 300, 400, 200)\n",
    "        self.show()\n",
    "\n",
    "\n",
    "if __name__ == '__main__':\n",
    "    app = QApplication(sys.argv)\n",
    "    ex = MyApp()\n",
    "    sys.exit(app.exec_())\n"
   ]
  },
  {
   "cell_type": "code",
   "execution_count": 1,
   "metadata": {},
   "outputs": [
    {
     "ename": "SystemExit",
     "evalue": "0",
     "output_type": "error",
     "traceback": [
      "An exception has occurred, use %tb to see the full traceback.\n",
      "\u001b[1;31mSystemExit\u001b[0m\u001b[1;31m:\u001b[0m 0\n"
     ]
    },
    {
     "name": "stderr",
     "output_type": "stream",
     "text": [
      "c:\\Users\\pari0\\anaconda3\\envs\\simulator\\lib\\site-packages\\IPython\\core\\interactiveshell.py:3561: UserWarning: To exit: use 'exit', 'quit', or Ctrl-D.\n",
      "  warn(\"To exit: use 'exit', 'quit', or Ctrl-D.\", stacklevel=1)\n"
     ]
    }
   ],
   "source": [
    "## Ex 3-10. 스타일 꾸미기.\n",
    "\n",
    "import sys\n",
    "from PyQt5.QtWidgets import QApplication, QWidget, QLabel, QVBoxLayout\n",
    "\n",
    "\n",
    "class MyApp(QWidget):\n",
    "\n",
    "    def __init__(self):\n",
    "        super().__init__()\n",
    "        self.initUI()\n",
    "\n",
    "    def initUI(self):\n",
    "\n",
    "        lbl_red = QLabel('Red')\n",
    "        lbl_green = QLabel('Green')\n",
    "        lbl_blue = QLabel('Blue')\n",
    "\n",
    "        lbl_red.setStyleSheet(\"color: red;\"\n",
    "                             \"border-style: solid;\"\n",
    "                             \"border-width: 2px;\"\n",
    "                             \"border-color: #FA8072;\"\n",
    "                             \"border-radius: 3px\")\n",
    "        lbl_green.setStyleSheet(\"color: green;\"\n",
    "                               \"background-color: #7FFFD4\")\n",
    "        lbl_blue.setStyleSheet(\"color: blue;\"\n",
    "                              \"background-color: #87CEFA;\"\n",
    "                              \"border-style: dashed;\"\n",
    "                              \"border-width: 3px;\"\n",
    "                              \"border-color: #1E90FF\")\n",
    "\n",
    "        vbox = QVBoxLayout()\n",
    "        vbox.addWidget(lbl_red)\n",
    "        vbox.addWidget(lbl_green)\n",
    "        vbox.addWidget(lbl_blue)\n",
    "\n",
    "        self.setLayout(vbox)\n",
    "\n",
    "        self.setWindowTitle('Stylesheet')\n",
    "        self.setGeometry(300, 300, 300, 200)\n",
    "        self.show()\n",
    "\n",
    "\n",
    "if __name__ == '__main__':\n",
    "    app = QApplication(sys.argv)\n",
    "    ex = MyApp()\n",
    "    sys.exit(app.exec_())\n"
   ]
  },
  {
   "cell_type": "code",
   "execution_count": 1,
   "metadata": {},
   "outputs": [
    {
     "ename": "SystemExit",
     "evalue": "0",
     "output_type": "error",
     "traceback": [
      "An exception has occurred, use %tb to see the full traceback.\n",
      "\u001b[1;31mSystemExit\u001b[0m\u001b[1;31m:\u001b[0m 0\n"
     ]
    },
    {
     "name": "stderr",
     "output_type": "stream",
     "text": [
      "c:\\Users\\pari0\\anaconda3\\envs\\simulator\\lib\\site-packages\\IPython\\core\\interactiveshell.py:3561: UserWarning: To exit: use 'exit', 'quit', or Ctrl-D.\n",
      "  warn(\"To exit: use 'exit', 'quit', or Ctrl-D.\", stacklevel=1)\n"
     ]
    }
   ],
   "source": [
    "## Ex 4-1. 절대적 배치.\n",
    "\n",
    "import sys\n",
    "from PyQt5.QtWidgets import QApplication, QWidget, QLabel, QPushButton\n",
    "\n",
    "\n",
    "class MyApp(QWidget):\n",
    "\n",
    "    def __init__(self):\n",
    "        super().__init__()\n",
    "        self.initUI()\n",
    "\n",
    "    def initUI(self):\n",
    "        label1 = QLabel('Label1', self)\n",
    "        label1.move(20, 20)\n",
    "        label2 = QLabel('Label2', self)\n",
    "        label2.move(20, 60)\n",
    "\n",
    "        btn1 = QPushButton('Button1', self)\n",
    "        btn1.move(80, 13)\n",
    "        btn2 = QPushButton('Button2', self)\n",
    "        btn2.move(80, 53)\n",
    "\n",
    "        self.setWindowTitle('Absolute Positioning')\n",
    "        self.setGeometry(300, 300, 400, 200)\n",
    "        self.show()\n",
    "\n",
    "\n",
    "if __name__ == '__main__':\n",
    "    app = QApplication(sys.argv)\n",
    "    ex = MyApp()\n",
    "    sys.exit(app.exec_())\n"
   ]
  },
  {
   "cell_type": "code",
   "execution_count": 1,
   "metadata": {},
   "outputs": [
    {
     "ename": "SystemExit",
     "evalue": "0",
     "output_type": "error",
     "traceback": [
      "An exception has occurred, use %tb to see the full traceback.\n",
      "\u001b[1;31mSystemExit\u001b[0m\u001b[1;31m:\u001b[0m 0\n"
     ]
    },
    {
     "name": "stderr",
     "output_type": "stream",
     "text": [
      "c:\\Users\\pari0\\anaconda3\\envs\\simulator\\lib\\site-packages\\IPython\\core\\interactiveshell.py:3561: UserWarning: To exit: use 'exit', 'quit', or Ctrl-D.\n",
      "  warn(\"To exit: use 'exit', 'quit', or Ctrl-D.\", stacklevel=1)\n"
     ]
    }
   ],
   "source": [
    "## Ex 4-2. 박스 레이아웃.\n",
    "\n",
    "import sys\n",
    "from PyQt5.QtWidgets import QApplication, QWidget, QPushButton, QHBoxLayout, QVBoxLayout\n",
    "\n",
    "\n",
    "class MyApp(QWidget):\n",
    "\n",
    "    def __init__(self):\n",
    "        super().__init__()\n",
    "        self.initUI()\n",
    "\n",
    "    def initUI(self):\n",
    "        okButton = QPushButton('OK')\n",
    "        cancelButton = QPushButton('Cancel')\n",
    "\n",
    "        hbox = QHBoxLayout()\n",
    "        hbox.addStretch(1)\n",
    "        hbox.addWidget(okButton)\n",
    "        hbox.addWidget(cancelButton)\n",
    "        hbox.addStretch(1)\n",
    "\n",
    "        vbox = QVBoxLayout()\n",
    "        vbox.addStretch(3)\n",
    "        vbox.addLayout(hbox)\n",
    "        vbox.addStretch(1)\n",
    "\n",
    "        self.setLayout(vbox)\n",
    "\n",
    "        self.setWindowTitle('Box Layout')\n",
    "        self.setGeometry(300, 300, 300, 200)\n",
    "        self.show()\n",
    "\n",
    "\n",
    "if __name__ == '__main__':\n",
    "    app = QApplication(sys.argv)\n",
    "    ex = MyApp()\n",
    "    sys.exit(app.exec_())\n"
   ]
  },
  {
   "cell_type": "code",
   "execution_count": 1,
   "metadata": {},
   "outputs": [
    {
     "ename": "SystemExit",
     "evalue": "0",
     "output_type": "error",
     "traceback": [
      "An exception has occurred, use %tb to see the full traceback.\n",
      "\u001b[1;31mSystemExit\u001b[0m\u001b[1;31m:\u001b[0m 0\n"
     ]
    },
    {
     "name": "stderr",
     "output_type": "stream",
     "text": [
      "c:\\Users\\pari0\\anaconda3\\envs\\simulator\\lib\\site-packages\\IPython\\core\\interactiveshell.py:3561: UserWarning: To exit: use 'exit', 'quit', or Ctrl-D.\n",
      "  warn(\"To exit: use 'exit', 'quit', or Ctrl-D.\", stacklevel=1)\n"
     ]
    }
   ],
   "source": [
    "## Ex 4-3. 그리드 레이아웃.\n",
    "\n",
    "import sys\n",
    "from PyQt5.QtWidgets import (QApplication, QWidget, QGridLayout, QLabel, QLineEdit, QTextEdit)\n",
    "\n",
    "\n",
    "class MyApp(QWidget):\n",
    "\n",
    "    def __init__(self):\n",
    "        super().__init__()\n",
    "        self.initUI()\n",
    "\n",
    "    def initUI(self):\n",
    "        grid = QGridLayout()\n",
    "        self.setLayout(grid)\n",
    "\n",
    "        grid.addWidget(QLabel('Title:'), 0, 0)\n",
    "        grid.addWidget(QLabel('Author:'), 1, 0)\n",
    "        grid.addWidget(QLabel('Review:'), 2, 0)\n",
    "\n",
    "        grid.addWidget(QLineEdit(), 0, 1)\n",
    "        grid.addWidget(QLineEdit(), 1, 1)\n",
    "        grid.addWidget(QTextEdit(), 2, 1)\n",
    "\n",
    "        self.setWindowTitle('QGridLayout')\n",
    "        self.setGeometry(300, 300, 300, 200)\n",
    "        self.show()\n",
    "\n",
    "\n",
    "if __name__ == '__main__':\n",
    "    app = QApplication(sys.argv)\n",
    "    ex = MyApp()\n",
    "    sys.exit(app.exec_())\n"
   ]
  },
  {
   "cell_type": "code",
   "execution_count": 1,
   "metadata": {},
   "outputs": [
    {
     "ename": "SystemExit",
     "evalue": "0",
     "output_type": "error",
     "traceback": [
      "An exception has occurred, use %tb to see the full traceback.\n",
      "\u001b[1;31mSystemExit\u001b[0m\u001b[1;31m:\u001b[0m 0\n"
     ]
    },
    {
     "name": "stderr",
     "output_type": "stream",
     "text": [
      "c:\\Users\\pari0\\anaconda3\\envs\\simulator\\lib\\site-packages\\IPython\\core\\interactiveshell.py:3561: UserWarning: To exit: use 'exit', 'quit', or Ctrl-D.\n",
      "  warn(\"To exit: use 'exit', 'quit', or Ctrl-D.\", stacklevel=1)\n"
     ]
    }
   ],
   "source": [
    "## Ex 5-1. QPushButton.\n",
    "\n",
    "import sys\n",
    "from PyQt5.QtWidgets import QApplication, QWidget, QPushButton, QVBoxLayout\n",
    "\n",
    "\n",
    "class MyApp(QWidget):\n",
    "\n",
    "    def __init__(self):\n",
    "        super().__init__()\n",
    "        self.initUI()\n",
    "\n",
    "    def initUI(self):\n",
    "        btn1 = QPushButton('&Button1', self)\n",
    "        btn1.setCheckable(True)\n",
    "        btn1.toggle()\n",
    "\n",
    "        btn2 = QPushButton(self)\n",
    "        btn2.setText('Button&2')\n",
    "\n",
    "        btn3 = QPushButton('Button3', self)\n",
    "        btn3.setEnabled(False)\n",
    "\n",
    "        vbox = QVBoxLayout()\n",
    "        vbox.addWidget(btn1)\n",
    "        vbox.addWidget(btn2)\n",
    "        vbox.addWidget(btn3)\n",
    "\n",
    "        self.setLayout(vbox)\n",
    "        self.setWindowTitle('QPushButton')\n",
    "        self.setGeometry(300, 300, 300, 200)\n",
    "        self.show()\n",
    "\n",
    "\n",
    "if __name__ == '__main__':\n",
    "    app = QApplication(sys.argv)\n",
    "    ex = MyApp()\n",
    "    sys.exit(app.exec_())\n"
   ]
  },
  {
   "cell_type": "code",
   "execution_count": 1,
   "metadata": {},
   "outputs": [
    {
     "ename": "SystemExit",
     "evalue": "0",
     "output_type": "error",
     "traceback": [
      "An exception has occurred, use %tb to see the full traceback.\n",
      "\u001b[1;31mSystemExit\u001b[0m\u001b[1;31m:\u001b[0m 0\n"
     ]
    },
    {
     "name": "stderr",
     "output_type": "stream",
     "text": [
      "c:\\Users\\pari0\\anaconda3\\envs\\simulator\\lib\\site-packages\\IPython\\core\\interactiveshell.py:3561: UserWarning: To exit: use 'exit', 'quit', or Ctrl-D.\n",
      "  warn(\"To exit: use 'exit', 'quit', or Ctrl-D.\", stacklevel=1)\n"
     ]
    }
   ],
   "source": [
    "## Ex 5-2. QLabel.\n",
    "\n",
    "import sys\n",
    "from PyQt5.QtWidgets import QApplication, QWidget, QLabel, QVBoxLayout\n",
    "from PyQt5.QtCore import Qt\n",
    "\n",
    "\n",
    "class MyApp(QWidget):\n",
    "\n",
    "    def __init__(self):\n",
    "        super().__init__()\n",
    "        self.initUI()\n",
    "\n",
    "    def initUI(self):\n",
    "        label1 = QLabel('First Label', self)\n",
    "        label1.setAlignment(Qt.AlignCenter)\n",
    "\n",
    "        label2 = QLabel('Second Label', self)\n",
    "        label2.setAlignment(Qt.AlignVCenter)\n",
    "\n",
    "        font1 = label1.font()\n",
    "        font1.setPointSize(20)\n",
    "\n",
    "        font2 = label2.font()\n",
    "        font2.setFamily('Times New Roman')\n",
    "        font2.setBold(True)\n",
    "\n",
    "        label1.setFont(font1)\n",
    "        label2.setFont(font2)\n",
    "\n",
    "        layout = QVBoxLayout()\n",
    "        layout.addWidget(label1)\n",
    "        layout.addWidget(label2)\n",
    "\n",
    "        self.setLayout(layout)\n",
    "\n",
    "        self.setWindowTitle('QLabel')\n",
    "        self.setGeometry(300, 300, 300, 200)\n",
    "        self.show()\n",
    "\n",
    "\n",
    "if __name__ == '__main__':\n",
    "    app = QApplication(sys.argv)\n",
    "    ex = MyApp()\n",
    "    sys.exit(app.exec_())\n"
   ]
  },
  {
   "cell_type": "code",
   "execution_count": 1,
   "metadata": {},
   "outputs": [
    {
     "ename": "SystemExit",
     "evalue": "0",
     "output_type": "error",
     "traceback": [
      "An exception has occurred, use %tb to see the full traceback.\n",
      "\u001b[1;31mSystemExit\u001b[0m\u001b[1;31m:\u001b[0m 0\n"
     ]
    },
    {
     "name": "stderr",
     "output_type": "stream",
     "text": [
      "c:\\Users\\pari0\\anaconda3\\envs\\simulator\\lib\\site-packages\\IPython\\core\\interactiveshell.py:3561: UserWarning: To exit: use 'exit', 'quit', or Ctrl-D.\n",
      "  warn(\"To exit: use 'exit', 'quit', or Ctrl-D.\", stacklevel=1)\n"
     ]
    }
   ],
   "source": [
    "## Ex 5-3. QCheckBox.\n",
    "\n",
    "import sys\n",
    "from PyQt5.QtWidgets import QApplication, QWidget, QCheckBox\n",
    "from PyQt5.QtCore import Qt\n",
    "\n",
    "\n",
    "class MyApp(QWidget):\n",
    "\n",
    "    def __init__(self):\n",
    "        super().__init__()\n",
    "        self.initUI()\n",
    "\n",
    "    def initUI(self):\n",
    "        cb = QCheckBox('Show title', self)\n",
    "        cb.move(20, 20)\n",
    "        cb.toggle()\n",
    "        cb.stateChanged.connect(self.changeTitle)\n",
    "\n",
    "        self.setWindowTitle('QCheckBox')\n",
    "        self.setGeometry(300, 300, 300, 200)\n",
    "        self.show()\n",
    "\n",
    "    def changeTitle(self, state):\n",
    "        if state == Qt.Checked:\n",
    "            self.setWindowTitle('QCheckBox')\n",
    "        else:\n",
    "            self.setWindowTitle(' ')\n",
    "\n",
    "\n",
    "if __name__ == '__main__':\n",
    "    app = QApplication(sys.argv)\n",
    "    ex = MyApp()\n",
    "    sys.exit(app.exec_())\n"
   ]
  },
  {
   "cell_type": "code",
   "execution_count": 1,
   "metadata": {},
   "outputs": [
    {
     "ename": "SystemExit",
     "evalue": "0",
     "output_type": "error",
     "traceback": [
      "An exception has occurred, use %tb to see the full traceback.\n",
      "\u001b[1;31mSystemExit\u001b[0m\u001b[1;31m:\u001b[0m 0\n"
     ]
    },
    {
     "name": "stderr",
     "output_type": "stream",
     "text": [
      "c:\\Users\\pari0\\anaconda3\\envs\\simulator\\lib\\site-packages\\IPython\\core\\interactiveshell.py:3561: UserWarning: To exit: use 'exit', 'quit', or Ctrl-D.\n",
      "  warn(\"To exit: use 'exit', 'quit', or Ctrl-D.\", stacklevel=1)\n"
     ]
    }
   ],
   "source": [
    "## Ex 5-4. QRadioButton.\n",
    "\n",
    "import sys\n",
    "from PyQt5.QtWidgets import QApplication, QWidget, QRadioButton\n",
    "\n",
    "\n",
    "class MyApp(QWidget):\n",
    "\n",
    "    def __init__(self):\n",
    "        super().__init__()\n",
    "        self.initUI()\n",
    "\n",
    "    def initUI(self):\n",
    "        rbtn1 = QRadioButton('First Button', self)\n",
    "        rbtn1.move(50, 50)\n",
    "        rbtn1.setChecked(True)\n",
    "\n",
    "        rbtn2 = QRadioButton(self)\n",
    "        rbtn2.move(50, 70)\n",
    "        rbtn2.setText('Second Button')\n",
    "\n",
    "        self.setGeometry(300, 300, 300, 200)\n",
    "        self.setWindowTitle('QRadioButton')\n",
    "        self.show()\n",
    "\n",
    "\n",
    "if __name__ == '__main__':\n",
    "    app = QApplication(sys.argv)\n",
    "    ex = MyApp()\n",
    "    sys.exit(app.exec_())\n"
   ]
  },
  {
   "cell_type": "code",
   "execution_count": 1,
   "metadata": {},
   "outputs": [
    {
     "ename": "SystemExit",
     "evalue": "0",
     "output_type": "error",
     "traceback": [
      "An exception has occurred, use %tb to see the full traceback.\n",
      "\u001b[1;31mSystemExit\u001b[0m\u001b[1;31m:\u001b[0m 0\n"
     ]
    },
    {
     "name": "stderr",
     "output_type": "stream",
     "text": [
      "c:\\Users\\pari0\\anaconda3\\envs\\simulator\\lib\\site-packages\\IPython\\core\\interactiveshell.py:3561: UserWarning: To exit: use 'exit', 'quit', or Ctrl-D.\n",
      "  warn(\"To exit: use 'exit', 'quit', or Ctrl-D.\", stacklevel=1)\n"
     ]
    }
   ],
   "source": [
    "## Ex 5-5. QComboBox.\n",
    "\n",
    "import sys\n",
    "from PyQt5.QtWidgets import QApplication, QWidget, QLabel, QComboBox\n",
    "\n",
    "\n",
    "class MyApp(QWidget):\n",
    "\n",
    "    def __init__(self):\n",
    "        super().__init__()\n",
    "        self.initUI()\n",
    "\n",
    "    def initUI(self):\n",
    "        self.lbl = QLabel('Option1', self)\n",
    "        self.lbl.move(50, 150)\n",
    "\n",
    "        cb = QComboBox(self)\n",
    "        cb.addItem('Option1')\n",
    "        cb.addItem('Option2')\n",
    "        cb.addItem('Option3')\n",
    "        cb.addItem('Option4')\n",
    "        cb.move(50, 50)\n",
    "\n",
    "        cb.activated[str].connect(self.onActivated)\n",
    "\n",
    "        self.setWindowTitle('QComboBox')\n",
    "        self.setGeometry(300, 300, 300, 200)\n",
    "        self.show()\n",
    "\n",
    "    def onActivated(self, text):\n",
    "        self.lbl.setText(text)\n",
    "        self.lbl.adjustSize()\n",
    "\n",
    "\n",
    "if __name__ == '__main__':\n",
    "    app = QApplication(sys.argv)\n",
    "    ex = MyApp()\n",
    "    sys.exit(app.exec_())\n"
   ]
  },
  {
   "cell_type": "code",
   "execution_count": 1,
   "metadata": {},
   "outputs": [
    {
     "ename": "SystemExit",
     "evalue": "0",
     "output_type": "error",
     "traceback": [
      "An exception has occurred, use %tb to see the full traceback.\n",
      "\u001b[1;31mSystemExit\u001b[0m\u001b[1;31m:\u001b[0m 0\n"
     ]
    },
    {
     "name": "stderr",
     "output_type": "stream",
     "text": [
      "c:\\Users\\pari0\\anaconda3\\envs\\simulator\\lib\\site-packages\\IPython\\core\\interactiveshell.py:3561: UserWarning: To exit: use 'exit', 'quit', or Ctrl-D.\n",
      "  warn(\"To exit: use 'exit', 'quit', or Ctrl-D.\", stacklevel=1)\n"
     ]
    }
   ],
   "source": [
    "## Ex 5-6. QLineEdit.\n",
    "\n",
    "import sys\n",
    "from PyQt5.QtWidgets import QApplication, QWidget, QLabel, QLineEdit\n",
    "\n",
    "\n",
    "class MyApp(QWidget):\n",
    "\n",
    "    def __init__(self):\n",
    "        super().__init__()\n",
    "        self.initUI()\n",
    "\n",
    "    def initUI(self):\n",
    "        self.lbl = QLabel(self)\n",
    "        self.lbl.move(60, 40)\n",
    "\n",
    "        qle = QLineEdit(self)\n",
    "        qle.move(60, 100)\n",
    "        qle.textChanged[str].connect(self.onChanged)\n",
    "\n",
    "        self.setWindowTitle('QLineEdit')\n",
    "        self.setGeometry(300, 300, 300, 200)\n",
    "        self.show()\n",
    "\n",
    "    def onChanged(self, text):\n",
    "        self.lbl.setText(text)\n",
    "        self.lbl.adjustSize()\n",
    "\n",
    "\n",
    "if __name__ == '__main__':\n",
    "    app = QApplication(sys.argv)\n",
    "    ex = MyApp()\n",
    "    sys.exit(app.exec_())\n"
   ]
  },
  {
   "cell_type": "code",
   "execution_count": 1,
   "metadata": {},
   "outputs": [
    {
     "ename": "SystemExit",
     "evalue": "0",
     "output_type": "error",
     "traceback": [
      "An exception has occurred, use %tb to see the full traceback.\n",
      "\u001b[1;31mSystemExit\u001b[0m\u001b[1;31m:\u001b[0m 0\n"
     ]
    },
    {
     "name": "stderr",
     "output_type": "stream",
     "text": [
      "c:\\Users\\pari0\\anaconda3\\envs\\simulator\\lib\\site-packages\\IPython\\core\\interactiveshell.py:3561: UserWarning: To exit: use 'exit', 'quit', or Ctrl-D.\n",
      "  warn(\"To exit: use 'exit', 'quit', or Ctrl-D.\", stacklevel=1)\n"
     ]
    }
   ],
   "source": [
    "## Ex 5-7. QProgressBar.\n",
    "\n",
    "import sys\n",
    "from PyQt5.QtWidgets import QApplication, QWidget, QPushButton, QProgressBar\n",
    "from PyQt5.QtCore import QBasicTimer\n",
    "\n",
    "\n",
    "class MyApp(QWidget):\n",
    "\n",
    "    def __init__(self):\n",
    "        super().__init__()\n",
    "        self.initUI()\n",
    "\n",
    "    def initUI(self):\n",
    "        self.pbar = QProgressBar(self)\n",
    "        self.pbar.setGeometry(30, 40, 200, 25)\n",
    "\n",
    "        self.btn = QPushButton('Start', self)\n",
    "        self.btn.move(40, 80)\n",
    "        self.btn.clicked.connect(self.doAction)\n",
    "\n",
    "        self.timer = QBasicTimer()\n",
    "        self.step = 0\n",
    "\n",
    "        self.setWindowTitle('QProgressBar')\n",
    "        self.setGeometry(300, 300, 300, 200)\n",
    "        self.show()\n",
    "\n",
    "    def timerEvent(self, e):\n",
    "        if self.step >= 100:\n",
    "            self.timer.stop()\n",
    "            self.btn.setText('Finished')\n",
    "            return\n",
    "\n",
    "        self.step = self.step + 1\n",
    "        self.pbar.setValue(self.step)\n",
    "\n",
    "    def doAction(self):\n",
    "        if self.timer.isActive():\n",
    "            self.timer.stop()\n",
    "            self.btn.setText('Start')\n",
    "        else:\n",
    "            self.timer.start(100, self)\n",
    "            self.btn.setText('Stop')\n",
    "\n",
    "\n",
    "if __name__ == '__main__':\n",
    "    app = QApplication(sys.argv)\n",
    "    ex = MyApp()\n",
    "    sys.exit(app.exec_())\n"
   ]
  },
  {
   "cell_type": "code",
   "execution_count": 1,
   "metadata": {},
   "outputs": [
    {
     "ename": "SystemExit",
     "evalue": "0",
     "output_type": "error",
     "traceback": [
      "An exception has occurred, use %tb to see the full traceback.\n",
      "\u001b[1;31mSystemExit\u001b[0m\u001b[1;31m:\u001b[0m 0\n"
     ]
    },
    {
     "name": "stderr",
     "output_type": "stream",
     "text": [
      "c:\\Users\\pari0\\anaconda3\\envs\\simulator\\lib\\site-packages\\IPython\\core\\interactiveshell.py:3561: UserWarning: To exit: use 'exit', 'quit', or Ctrl-D.\n",
      "  warn(\"To exit: use 'exit', 'quit', or Ctrl-D.\", stacklevel=1)\n"
     ]
    }
   ],
   "source": [
    "## Ex 5-8. QSlider & QDial.\n",
    "\n",
    "import sys\n",
    "from PyQt5.QtWidgets import QApplication, QWidget, QSlider, QDial, QPushButton\n",
    "from PyQt5.QtCore import Qt\n",
    "\n",
    "\n",
    "class MyApp(QWidget):\n",
    "\n",
    "    def __init__(self):\n",
    "        super().__init__()\n",
    "        self.initUI()\n",
    "\n",
    "    def initUI(self):\n",
    "        self.slider = QSlider(Qt.Horizontal, self)\n",
    "        self.slider.move(30, 30)\n",
    "        self.slider.setRange(0, 50)\n",
    "        self.slider.setSingleStep(2)\n",
    "\n",
    "        self.dial = QDial(self)\n",
    "        self.dial.move(30, 50)\n",
    "        self.dial.setRange(0, 50)\n",
    "\n",
    "        btn = QPushButton('Default', self)\n",
    "        btn.move(35, 160)\n",
    "\n",
    "        self.slider.valueChanged.connect(self.dial.setValue)\n",
    "        self.dial.valueChanged.connect(self.slider.setValue)\n",
    "        btn.clicked.connect(self.button_clicked)\n",
    "\n",
    "        self.setWindowTitle('QSlider and QDial')\n",
    "        self.setGeometry(300, 300, 400, 200)\n",
    "        self.show()\n",
    "\n",
    "    def button_clicked(self):\n",
    "        self.slider.setValue(0)\n",
    "        self.dial.setValue(0)\n",
    "\n",
    "\n",
    "if __name__ == '__main__':\n",
    "    app = QApplication(sys.argv)\n",
    "    ex = MyApp()\n",
    "    sys.exit(app.exec_())\n"
   ]
  },
  {
   "cell_type": "code",
   "execution_count": 1,
   "metadata": {},
   "outputs": [
    {
     "ename": "SystemExit",
     "evalue": "0",
     "output_type": "error",
     "traceback": [
      "An exception has occurred, use %tb to see the full traceback.\n",
      "\u001b[1;31mSystemExit\u001b[0m\u001b[1;31m:\u001b[0m 0\n"
     ]
    },
    {
     "name": "stderr",
     "output_type": "stream",
     "text": [
      "c:\\Users\\pari0\\anaconda3\\envs\\simulator\\lib\\site-packages\\IPython\\core\\interactiveshell.py:3561: UserWarning: To exit: use 'exit', 'quit', or Ctrl-D.\n",
      "  warn(\"To exit: use 'exit', 'quit', or Ctrl-D.\", stacklevel=1)\n"
     ]
    }
   ],
   "source": [
    "## Ex 5-9. QSplitter.\n",
    "\n",
    "import sys\n",
    "from PyQt5.QtWidgets import QApplication, QWidget, QHBoxLayout, QFrame, QSplitter\n",
    "from PyQt5.QtCore import Qt\n",
    "\n",
    "\n",
    "class MyApp(QWidget):\n",
    "\n",
    "    def __init__(self):\n",
    "        super().__init__()\n",
    "        self.initUI()\n",
    "\n",
    "    def initUI(self):\n",
    "        hbox = QHBoxLayout()\n",
    "\n",
    "        top = QFrame()\n",
    "        top.setFrameShape(QFrame.Box)\n",
    "\n",
    "        midleft = QFrame()\n",
    "        midleft.setFrameShape(QFrame.StyledPanel)\n",
    "\n",
    "        midright = QFrame()\n",
    "        midright.setFrameShape(QFrame.Panel)\n",
    "\n",
    "        bottom = QFrame()\n",
    "        bottom.setFrameShape(QFrame.WinPanel)\n",
    "        bottom.setFrameShadow(QFrame.Sunken)\n",
    "\n",
    "        splitter1 = QSplitter(Qt.Horizontal)\n",
    "        splitter1.addWidget(midleft)\n",
    "        splitter1.addWidget(midright)\n",
    "\n",
    "        splitter2 = QSplitter(Qt.Vertical)\n",
    "        splitter2.addWidget(top)\n",
    "        splitter2.addWidget(splitter1)\n",
    "        splitter2.addWidget(bottom)\n",
    "\n",
    "        hbox.addWidget(splitter2)\n",
    "        self.setLayout(hbox)\n",
    "\n",
    "        self.setGeometry(300, 300, 300, 200)\n",
    "        self.setWindowTitle('QSplitter')\n",
    "        self.show()\n",
    "\n",
    "\n",
    "if __name__ == '__main__':\n",
    "    app = QApplication(sys.argv)\n",
    "    ex = MyApp()\n",
    "    sys.exit(app.exec_())\n"
   ]
  },
  {
   "cell_type": "code",
   "execution_count": 1,
   "metadata": {},
   "outputs": [
    {
     "ename": "SystemExit",
     "evalue": "0",
     "output_type": "error",
     "traceback": [
      "An exception has occurred, use %tb to see the full traceback.\n",
      "\u001b[1;31mSystemExit\u001b[0m\u001b[1;31m:\u001b[0m 0\n"
     ]
    },
    {
     "name": "stderr",
     "output_type": "stream",
     "text": [
      "c:\\Users\\pari0\\anaconda3\\envs\\simulator\\lib\\site-packages\\IPython\\core\\interactiveshell.py:3561: UserWarning: To exit: use 'exit', 'quit', or Ctrl-D.\n",
      "  warn(\"To exit: use 'exit', 'quit', or Ctrl-D.\", stacklevel=1)\n"
     ]
    }
   ],
   "source": [
    "## Ex 5-10. QGroupBox.\n",
    "\n",
    "import sys\n",
    "from PyQt5.QtWidgets import (QApplication, QWidget, QGroupBox, QRadioButton\n",
    ", QCheckBox, QPushButton, QMenu, QGridLayout, QVBoxLayout)\n",
    "\n",
    "\n",
    "class MyApp(QWidget):\n",
    "\n",
    "    def __init__(self):\n",
    "        super().__init__()\n",
    "        self.initUI()\n",
    "\n",
    "    def initUI(self):\n",
    "        grid = QGridLayout()\n",
    "        grid.addWidget(self.createFirstExclusiveGroup(), 0, 0)\n",
    "        grid.addWidget(self.createSecondExclusiveGroup(), 1, 0)\n",
    "        grid.addWidget(self.createNonExclusiveGroup(), 0, 1)\n",
    "        grid.addWidget(self.createPushButtonGroup(), 1, 1)\n",
    "\n",
    "        self.setLayout(grid)\n",
    "\n",
    "        self.setWindowTitle('Box Layout')\n",
    "        self.setGeometry(300, 300, 480, 320)\n",
    "        self.show()\n",
    "\n",
    "    def createFirstExclusiveGroup(self):\n",
    "        groupbox = QGroupBox('Exclusive Radio Buttons')\n",
    "\n",
    "        radio1 = QRadioButton('Radio1')\n",
    "        radio2 = QRadioButton('Radio2')\n",
    "        radio3 = QRadioButton('Radio3')\n",
    "        radio1.setChecked(True)\n",
    "\n",
    "        vbox = QVBoxLayout()\n",
    "        vbox.addWidget(radio1)\n",
    "        vbox.addWidget(radio2)\n",
    "        vbox.addWidget(radio3)\n",
    "        groupbox.setLayout(vbox)\n",
    "\n",
    "        return groupbox\n",
    "\n",
    "    def createSecondExclusiveGroup(self):\n",
    "        groupbox = QGroupBox('Exclusive Radio Buttons')\n",
    "        groupbox.setCheckable(True)\n",
    "        groupbox.setChecked(False)\n",
    "\n",
    "        radio1 = QRadioButton('Radio1')\n",
    "        radio2 = QRadioButton('Radio2')\n",
    "        radio3 = QRadioButton('Radio3')\n",
    "        radio1.setChecked(True)\n",
    "        checkbox = QCheckBox('Independent Checkbox')\n",
    "        checkbox.setChecked(True)\n",
    "\n",
    "        vbox = QVBoxLayout()\n",
    "        vbox.addWidget(radio1)\n",
    "        vbox.addWidget(radio2)\n",
    "        vbox.addWidget(radio3)\n",
    "        vbox.addWidget(checkbox)\n",
    "        vbox.addStretch(1)\n",
    "        groupbox.setLayout(vbox)\n",
    "\n",
    "        return groupbox\n",
    "\n",
    "    def createNonExclusiveGroup(self):\n",
    "        groupbox = QGroupBox('Non-Exclusive Checkboxes')\n",
    "        groupbox.setFlat(True)\n",
    "\n",
    "        checkbox1 = QCheckBox('Checkbox1')\n",
    "        checkbox2 = QCheckBox('Checkbox2')\n",
    "        checkbox2.setChecked(True)\n",
    "        tristatebox = QCheckBox('Tri-state Button')\n",
    "        tristatebox.setTristate(True)\n",
    "\n",
    "        vbox = QVBoxLayout()\n",
    "        vbox.addWidget(checkbox1)\n",
    "        vbox.addWidget(checkbox2)\n",
    "        vbox.addWidget(tristatebox)\n",
    "        vbox.addStretch(1)\n",
    "        groupbox.setLayout(vbox)\n",
    "\n",
    "        return groupbox\n",
    "\n",
    "    def createPushButtonGroup(self):\n",
    "        groupbox = QGroupBox('Push Buttons')\n",
    "        groupbox.setCheckable(True)\n",
    "        groupbox.setChecked(True)\n",
    "\n",
    "        pushbutton = QPushButton('Normal Button')\n",
    "        togglebutton = QPushButton('Toggle Button')\n",
    "        togglebutton.setCheckable(True)\n",
    "        togglebutton.setChecked(True)\n",
    "        flatbutton = QPushButton('Flat Button')\n",
    "        flatbutton.setFlat(True)\n",
    "        popupbutton = QPushButton('Popup Button')\n",
    "        menu = QMenu(self)\n",
    "        menu.addAction('First Item')\n",
    "        menu.addAction('Second Item')\n",
    "        menu.addAction('Third Item')\n",
    "        menu.addAction('Fourth Item')\n",
    "        popupbutton.setMenu(menu)\n",
    "\n",
    "        vbox = QVBoxLayout()\n",
    "        vbox.addWidget(pushbutton)\n",
    "        vbox.addWidget(togglebutton)\n",
    "        vbox.addWidget(flatbutton)\n",
    "        vbox.addWidget(popupbutton)\n",
    "        vbox.addStretch(1)\n",
    "        groupbox.setLayout(vbox)\n",
    "\n",
    "        return groupbox\n",
    "\n",
    "\n",
    "if __name__ == '__main__':\n",
    "    app = QApplication(sys.argv)\n",
    "    ex = MyApp()\n",
    "    sys.exit(app.exec_())\n"
   ]
  },
  {
   "cell_type": "code",
   "execution_count": 1,
   "metadata": {},
   "outputs": [
    {
     "ename": "SystemExit",
     "evalue": "0",
     "output_type": "error",
     "traceback": [
      "An exception has occurred, use %tb to see the full traceback.\n",
      "\u001b[1;31mSystemExit\u001b[0m\u001b[1;31m:\u001b[0m 0\n"
     ]
    },
    {
     "name": "stderr",
     "output_type": "stream",
     "text": [
      "c:\\Users\\pari0\\anaconda3\\envs\\simulator\\lib\\site-packages\\IPython\\core\\interactiveshell.py:3561: UserWarning: To exit: use 'exit', 'quit', or Ctrl-D.\n",
      "  warn(\"To exit: use 'exit', 'quit', or Ctrl-D.\", stacklevel=1)\n"
     ]
    }
   ],
   "source": [
    "## Ex 5-11. QTabWidget.\n",
    "\n",
    "import sys\n",
    "from PyQt5.QtWidgets import QApplication, QWidget, QTabWidget, QVBoxLayout\n",
    "\n",
    "\n",
    "class MyApp(QWidget):\n",
    "\n",
    "    def __init__(self):\n",
    "        super().__init__()\n",
    "        self.initUI()\n",
    "\n",
    "    def initUI(self):\n",
    "        tab1 = QWidget()\n",
    "        tab2 = QWidget()\n",
    "\n",
    "        tabs = QTabWidget()\n",
    "        tabs.addTab(tab1, 'Tab1')\n",
    "        tabs.addTab(tab2, 'Tab2')\n",
    "\n",
    "        vbox = QVBoxLayout()\n",
    "        vbox.addWidget(tabs)\n",
    "\n",
    "        self.setLayout(vbox)\n",
    "\n",
    "        self.setWindowTitle('QTabWidget')\n",
    "        self.setGeometry(300, 300, 300, 200)\n",
    "        self.show()\n",
    "\n",
    "\n",
    "if __name__ == '__main__':\n",
    "    app = QApplication(sys.argv)\n",
    "    ex = MyApp()\n",
    "    sys.exit(app.exec_())\n"
   ]
  },
  {
   "cell_type": "code",
   "execution_count": 1,
   "metadata": {},
   "outputs": [
    {
     "ename": "SystemExit",
     "evalue": "0",
     "output_type": "error",
     "traceback": [
      "An exception has occurred, use %tb to see the full traceback.\n",
      "\u001b[1;31mSystemExit\u001b[0m\u001b[1;31m:\u001b[0m 0\n"
     ]
    },
    {
     "name": "stderr",
     "output_type": "stream",
     "text": [
      "c:\\Users\\pari0\\anaconda3\\envs\\simulator\\lib\\site-packages\\IPython\\core\\interactiveshell.py:3561: UserWarning: To exit: use 'exit', 'quit', or Ctrl-D.\n",
      "  warn(\"To exit: use 'exit', 'quit', or Ctrl-D.\", stacklevel=1)\n"
     ]
    }
   ],
   "source": [
    "## Ex 5-12. QPixmap.\n",
    "\n",
    "import sys\n",
    "from PyQt5.QtWidgets import QApplication, QWidget, QLabel, QVBoxLayout\n",
    "from PyQt5.QtGui import QPixmap\n",
    "from PyQt5.QtCore import Qt\n",
    "\n",
    "\n",
    "class MyApp(QWidget):\n",
    "\n",
    "    def __init__(self):\n",
    "        super().__init__()\n",
    "        self.initUI()\n",
    "\n",
    "    def initUI(self):\n",
    "        pixmap = QPixmap('web.png')\n",
    "\n",
    "        lbl_img = QLabel()\n",
    "        lbl_img.setPixmap(pixmap)\n",
    "        lbl_size = QLabel('Width: '+str(pixmap.width())+', Height: '+str(pixmap.height()))\n",
    "        lbl_size.setAlignment(Qt.AlignCenter)\n",
    "\n",
    "        vbox = QVBoxLayout()\n",
    "        vbox.addWidget(lbl_img)\n",
    "        vbox.addWidget(lbl_size)\n",
    "        self.setLayout(vbox)\n",
    "\n",
    "        self.setWindowTitle('QPixmap')\n",
    "        self.move(300, 300)\n",
    "        self.show()\n",
    "\n",
    "\n",
    "if __name__ == '__main__':\n",
    "    app = QApplication(sys.argv)\n",
    "    ex = MyApp()\n",
    "    sys.exit(app.exec_())\n"
   ]
  },
  {
   "cell_type": "code",
   "execution_count": 1,
   "metadata": {},
   "outputs": [
    {
     "ename": "SystemExit",
     "evalue": "0",
     "output_type": "error",
     "traceback": [
      "An exception has occurred, use %tb to see the full traceback.\n",
      "\u001b[1;31mSystemExit\u001b[0m\u001b[1;31m:\u001b[0m 0\n"
     ]
    },
    {
     "name": "stderr",
     "output_type": "stream",
     "text": [
      "c:\\Users\\pari0\\anaconda3\\envs\\simulator\\lib\\site-packages\\IPython\\core\\interactiveshell.py:3561: UserWarning: To exit: use 'exit', 'quit', or Ctrl-D.\n",
      "  warn(\"To exit: use 'exit', 'quit', or Ctrl-D.\", stacklevel=1)\n"
     ]
    }
   ],
   "source": [
    "## Ex 5-13. QCalenderWidget.\n",
    "\n",
    "import sys\n",
    "from PyQt5.QtWidgets import QApplication, QWidget, QLabel, QVBoxLayout, QCalendarWidget\n",
    "from PyQt5.QtCore import QDate\n",
    "\n",
    "\n",
    "class MyApp(QWidget):\n",
    "\n",
    "    def __init__(self):\n",
    "        super().__init__()\n",
    "        self.initUI()\n",
    "\n",
    "    def initUI(self):\n",
    "        cal = QCalendarWidget(self)\n",
    "        cal.setGridVisible(True)\n",
    "        cal.clicked[QDate].connect(self.showDate)\n",
    "\n",
    "        self.lbl = QLabel(self)\n",
    "        date = cal.selectedDate()\n",
    "        self.lbl.setText(date.toString())\n",
    "\n",
    "        vbox = QVBoxLayout()\n",
    "        vbox.addWidget(cal)\n",
    "        vbox.addWidget(self.lbl)\n",
    "\n",
    "        self.setLayout(vbox)\n",
    "\n",
    "        self.setWindowTitle('QCalendarWidget')\n",
    "        self.setGeometry(300, 300, 400, 300)\n",
    "        self.show()\n",
    "\n",
    "    def showDate(self, date):\n",
    "        self.lbl.setText(date.toString())\n",
    "\n",
    "\n",
    "if __name__ == '__main__':\n",
    "    app = QApplication(sys.argv)\n",
    "    ex = MyApp()\n",
    "    sys.exit(app.exec_())\n"
   ]
  },
  {
   "cell_type": "code",
   "execution_count": 1,
   "metadata": {},
   "outputs": [
    {
     "ename": "SystemExit",
     "evalue": "0",
     "output_type": "error",
     "traceback": [
      "An exception has occurred, use %tb to see the full traceback.\n",
      "\u001b[1;31mSystemExit\u001b[0m\u001b[1;31m:\u001b[0m 0\n"
     ]
    },
    {
     "name": "stderr",
     "output_type": "stream",
     "text": [
      "c:\\Users\\pari0\\anaconda3\\envs\\simulator\\lib\\site-packages\\IPython\\core\\interactiveshell.py:3561: UserWarning: To exit: use 'exit', 'quit', or Ctrl-D.\n",
      "  warn(\"To exit: use 'exit', 'quit', or Ctrl-D.\", stacklevel=1)\n"
     ]
    }
   ],
   "source": [
    "## Ex 5-14. QSpinBox.\n",
    "\n",
    "import sys\n",
    "from PyQt5.QtWidgets import QApplication, QWidget, QLabel, QSpinBox, QVBoxLayout\n",
    "\n",
    "\n",
    "class MyApp(QWidget):\n",
    "\n",
    "    def __init__(self):\n",
    "        super().__init__()\n",
    "        self.initUI()\n",
    "\n",
    "    def initUI(self):\n",
    "        self.lbl1 = QLabel('QSpinBox')\n",
    "        self.spinbox = QSpinBox()\n",
    "        self.spinbox.setMinimum(-10)\n",
    "        self.spinbox.setMaximum(30)\n",
    "        # self.spinbox.setRange(-10, 30)\n",
    "        self.spinbox.setSingleStep(2)\n",
    "        self.lbl2 = QLabel('0')\n",
    "\n",
    "        self.spinbox.valueChanged.connect(self.value_changed)\n",
    "\n",
    "        vbox = QVBoxLayout()\n",
    "        vbox.addWidget(self.lbl1)\n",
    "        vbox.addWidget(self.spinbox)\n",
    "        vbox.addWidget(self.lbl2)\n",
    "        vbox.addStretch()\n",
    "\n",
    "        self.setLayout(vbox)\n",
    "\n",
    "        self.setWindowTitle('QSpinBox')\n",
    "        self.setGeometry(300, 300, 300, 200)\n",
    "        self.show()\n",
    "\n",
    "    def value_changed(self):\n",
    "        self.lbl2.setText(str(self.spinbox.value()))\n",
    "\n",
    "\n",
    "if __name__ == '__main__':\n",
    "    app = QApplication(sys.argv)\n",
    "    ex = MyApp()\n",
    "    sys.exit(app.exec_())\n"
   ]
  },
  {
   "cell_type": "code",
   "execution_count": 1,
   "metadata": {},
   "outputs": [
    {
     "ename": "SystemExit",
     "evalue": "0",
     "output_type": "error",
     "traceback": [
      "An exception has occurred, use %tb to see the full traceback.\n",
      "\u001b[1;31mSystemExit\u001b[0m\u001b[1;31m:\u001b[0m 0\n"
     ]
    },
    {
     "name": "stderr",
     "output_type": "stream",
     "text": [
      "c:\\Users\\pari0\\anaconda3\\envs\\simulator\\lib\\site-packages\\IPython\\core\\interactiveshell.py:3561: UserWarning: To exit: use 'exit', 'quit', or Ctrl-D.\n",
      "  warn(\"To exit: use 'exit', 'quit', or Ctrl-D.\", stacklevel=1)\n"
     ]
    }
   ],
   "source": [
    "## Ex 5-15. QDoubleSpinBox.\n",
    "\n",
    "import sys\n",
    "from PyQt5.QtWidgets import QApplication, QWidget, QLabel, QDoubleSpinBox, QVBoxLayout\n",
    "\n",
    "\n",
    "class MyApp(QWidget):\n",
    "\n",
    "    def __init__(self):\n",
    "        super().__init__()\n",
    "        self.initUI()\n",
    "\n",
    "    def initUI(self):\n",
    "        self.lbl1 = QLabel('QDoubleSpinBox')\n",
    "        self.dspinbox = QDoubleSpinBox()\n",
    "        self.dspinbox.setRange(0, 100)\n",
    "        self.dspinbox.setSingleStep(0.5)\n",
    "        self.dspinbox.setPrefix('$ ')\n",
    "        self.dspinbox.setDecimals(1)\n",
    "        self.lbl2 = QLabel('$ 0.0')\n",
    "\n",
    "        self.dspinbox.valueChanged.connect(self.value_changed)\n",
    "\n",
    "        vbox = QVBoxLayout()\n",
    "        vbox.addWidget(self.lbl1)\n",
    "        vbox.addWidget(self.dspinbox)\n",
    "        vbox.addWidget(self.lbl2)\n",
    "        vbox.addStretch()\n",
    "\n",
    "        self.setLayout(vbox)\n",
    "\n",
    "        self.setWindowTitle('QDoubleSpinBox')\n",
    "        self.setGeometry(300, 300, 300, 200)\n",
    "        self.show()\n",
    "\n",
    "    def value_changed(self):\n",
    "        self.lbl2.setText('$ ' + str(self.dspinbox.value()))\n",
    "\n",
    "\n",
    "if __name__ == '__main__':\n",
    "    app = QApplication(sys.argv)\n",
    "    ex = MyApp()\n",
    "    sys.exit(app.exec_())\n"
   ]
  },
  {
   "cell_type": "code",
   "execution_count": 1,
   "metadata": {},
   "outputs": [
    {
     "ename": "SystemExit",
     "evalue": "0",
     "output_type": "error",
     "traceback": [
      "An exception has occurred, use %tb to see the full traceback.\n",
      "\u001b[1;31mSystemExit\u001b[0m\u001b[1;31m:\u001b[0m 0\n"
     ]
    },
    {
     "name": "stderr",
     "output_type": "stream",
     "text": [
      "c:\\Users\\pari0\\anaconda3\\envs\\simulator\\lib\\site-packages\\IPython\\core\\interactiveshell.py:3561: UserWarning: To exit: use 'exit', 'quit', or Ctrl-D.\n",
      "  warn(\"To exit: use 'exit', 'quit', or Ctrl-D.\", stacklevel=1)\n"
     ]
    }
   ],
   "source": [
    "## Ex 5-16. QDateEdit.\n",
    "\n",
    "import sys\n",
    "from PyQt5.QtWidgets import QApplication, QWidget, QLabel, QDateEdit, QVBoxLayout\n",
    "from PyQt5.QtCore import QDate\n",
    "\n",
    "\n",
    "class MyApp(QWidget):\n",
    "\n",
    "    def __init__(self):\n",
    "        super().__init__()\n",
    "        self.initUI()\n",
    "\n",
    "    def initUI(self):\n",
    "        lbl = QLabel('QDateEdit')\n",
    "\n",
    "        dateedit = QDateEdit(self)\n",
    "        dateedit.setDate(QDate.currentDate())\n",
    "        dateedit.setMinimumDate(QDate(1900, 1, 1))\n",
    "        dateedit.setMaximumDate(QDate(2100, 12, 31))\n",
    "        # dateedit.setDateRange(QDate(1900, 1, 1), QDate(2100, 12, 31))\n",
    "\n",
    "        vbox = QVBoxLayout()\n",
    "        vbox.addWidget(lbl)\n",
    "        vbox.addWidget(dateedit)\n",
    "        vbox.addStretch()\n",
    "\n",
    "        self.setLayout(vbox)\n",
    "\n",
    "        self.setWindowTitle('QDateEdit')\n",
    "        self.setGeometry(300, 300, 300, 200)\n",
    "        self.show()\n",
    "\n",
    "\n",
    "if __name__ == '__main__':\n",
    "    app = QApplication(sys.argv)\n",
    "    ex = MyApp()\n",
    "    sys.exit(app.exec_())\n"
   ]
  },
  {
   "cell_type": "code",
   "execution_count": 1,
   "metadata": {},
   "outputs": [
    {
     "ename": "SystemExit",
     "evalue": "0",
     "output_type": "error",
     "traceback": [
      "An exception has occurred, use %tb to see the full traceback.\n",
      "\u001b[1;31mSystemExit\u001b[0m\u001b[1;31m:\u001b[0m 0\n"
     ]
    },
    {
     "name": "stderr",
     "output_type": "stream",
     "text": [
      "c:\\Users\\pari0\\anaconda3\\envs\\simulator\\lib\\site-packages\\IPython\\core\\interactiveshell.py:3561: UserWarning: To exit: use 'exit', 'quit', or Ctrl-D.\n",
      "  warn(\"To exit: use 'exit', 'quit', or Ctrl-D.\", stacklevel=1)\n"
     ]
    }
   ],
   "source": [
    "## Ex 5-17. QTimeEdit.\n",
    "\n",
    "import sys\n",
    "from PyQt5.QtWidgets import QApplication, QWidget, QLabel, QTimeEdit, QVBoxLayout\n",
    "from PyQt5.QtCore import QTime\n",
    "\n",
    "\n",
    "class MyApp(QWidget):\n",
    "\n",
    "    def __init__(self):\n",
    "        super().__init__()\n",
    "        self.initUI()\n",
    "\n",
    "    def initUI(self):\n",
    "        lbl = QLabel('QTimeEdit')\n",
    "\n",
    "        timeedit = QTimeEdit(self)\n",
    "        timeedit.setTime(QTime.currentTime())\n",
    "        timeedit.setTimeRange(QTime(3, 00, 00), QTime(23, 30, 00))\n",
    "        timeedit.setDisplayFormat('hh:mm:ss')\n",
    "\n",
    "        vbox = QVBoxLayout()\n",
    "        vbox.addWidget(lbl)\n",
    "        vbox.addWidget(timeedit)\n",
    "        vbox.addStretch()\n",
    "\n",
    "        self.setLayout(vbox)\n",
    "\n",
    "        self.setWindowTitle('QTimeEdit')\n",
    "        self.setGeometry(300, 300, 300, 200)\n",
    "        self.show()\n",
    "\n",
    "\n",
    "if __name__ == '__main__':\n",
    "    app = QApplication(sys.argv)\n",
    "    ex = MyApp()\n",
    "    sys.exit(app.exec_())\n"
   ]
  },
  {
   "cell_type": "code",
   "execution_count": 1,
   "metadata": {},
   "outputs": [
    {
     "ename": "SystemExit",
     "evalue": "0",
     "output_type": "error",
     "traceback": [
      "An exception has occurred, use %tb to see the full traceback.\n",
      "\u001b[1;31mSystemExit\u001b[0m\u001b[1;31m:\u001b[0m 0\n"
     ]
    },
    {
     "name": "stderr",
     "output_type": "stream",
     "text": [
      "c:\\Users\\pari0\\anaconda3\\envs\\simulator\\lib\\site-packages\\IPython\\core\\interactiveshell.py:3561: UserWarning: To exit: use 'exit', 'quit', or Ctrl-D.\n",
      "  warn(\"To exit: use 'exit', 'quit', or Ctrl-D.\", stacklevel=1)\n"
     ]
    }
   ],
   "source": [
    "## Ex 5-19. QTextBrowser.\n",
    "\n",
    "import sys\n",
    "from PyQt5.QtWidgets import (QApplication, QWidget\n",
    ", QLineEdit, QTextBrowser, QPushButton, QVBoxLayout)\n",
    "\n",
    "\n",
    "class MyApp(QWidget):\n",
    "\n",
    "    def __init__(self):\n",
    "        super().__init__()\n",
    "        self.initUI()\n",
    "\n",
    "    def initUI(self):\n",
    "        self.le = QLineEdit()\n",
    "        self.le.returnPressed.connect(self.append_text)\n",
    "\n",
    "        self.tb = QTextBrowser()\n",
    "        self.tb.setAcceptRichText(True)\n",
    "        self.tb.setOpenExternalLinks(True)\n",
    "\n",
    "        self.clear_btn = QPushButton('Clear')\n",
    "        self.clear_btn.pressed.connect(self.clear_text)\n",
    "\n",
    "        vbox = QVBoxLayout()\n",
    "        vbox.addWidget(self.le, 0)\n",
    "        vbox.addWidget(self.tb, 1)\n",
    "        vbox.addWidget(self.clear_btn, 2)\n",
    "\n",
    "        self.setLayout(vbox)\n",
    "\n",
    "        self.setWindowTitle('QTextBrowser')\n",
    "        self.setGeometry(300, 300, 300, 300)\n",
    "        self.show()\n",
    "\n",
    "    def append_text(self):\n",
    "        text = self.le.text()\n",
    "        self.tb.append(text)\n",
    "        self.le.clear()\n",
    "\n",
    "    def clear_text(self):\n",
    "        self.tb.clear()\n",
    "\n",
    "\n",
    "if __name__ == '__main__':\n",
    "    app = QApplication(sys.argv)\n",
    "    ex = MyApp()\n",
    "    sys.exit(app.exec_())\n"
   ]
  },
  {
   "cell_type": "code",
   "execution_count": 1,
   "metadata": {},
   "outputs": [
    {
     "ename": "SystemExit",
     "evalue": "0",
     "output_type": "error",
     "traceback": [
      "An exception has occurred, use %tb to see the full traceback.\n",
      "\u001b[1;31mSystemExit\u001b[0m\u001b[1;31m:\u001b[0m 0\n"
     ]
    },
    {
     "name": "stderr",
     "output_type": "stream",
     "text": [
      "c:\\Users\\pari0\\anaconda3\\envs\\simulator\\lib\\site-packages\\IPython\\core\\interactiveshell.py:3561: UserWarning: To exit: use 'exit', 'quit', or Ctrl-D.\n",
      "  warn(\"To exit: use 'exit', 'quit', or Ctrl-D.\", stacklevel=1)\n"
     ]
    }
   ],
   "source": [
    "## Ex 5-20. QTextEdit.\n",
    "\n",
    "import sys\n",
    "from PyQt5.QtWidgets import QApplication, QWidget, QLabel, QTextEdit, QVBoxLayout\n",
    "\n",
    "\n",
    "class MyApp(QWidget):\n",
    "\n",
    "    def __init__(self):\n",
    "        super().__init__()\n",
    "        self.initUI()\n",
    "\n",
    "    def initUI(self):\n",
    "        self.lbl1 = QLabel('Enter your sentence:')\n",
    "        self.te = QTextEdit()\n",
    "        self.te.setAcceptRichText(False)\n",
    "        self.lbl2 = QLabel('The number of words is 0')\n",
    "\n",
    "        self.te.textChanged.connect(self.text_changed)\n",
    "\n",
    "        vbox = QVBoxLayout()\n",
    "        vbox.addWidget(self.lbl1)\n",
    "        vbox.addWidget(self.te)\n",
    "        vbox.addWidget(self.lbl2)\n",
    "        vbox.addStretch()\n",
    "\n",
    "        self.setLayout(vbox)\n",
    "\n",
    "        self.setWindowTitle('QTextEdit')\n",
    "        self.setGeometry(300, 300, 300, 200)\n",
    "        self.show()\n",
    "\n",
    "    def text_changed(self):\n",
    "        text = self.te.toPlainText()\n",
    "        self.lbl2.setText('The number of words is ' + str(len(text.split())))\n",
    "\n",
    "\n",
    "if __name__ == '__main__':\n",
    "    app = QApplication(sys.argv)\n",
    "    ex = MyApp()\n",
    "    sys.exit(app.exec_())\n"
   ]
  },
  {
   "cell_type": "code",
   "execution_count": 1,
   "metadata": {},
   "outputs": [
    {
     "ename": "SystemExit",
     "evalue": "0",
     "output_type": "error",
     "traceback": [
      "An exception has occurred, use %tb to see the full traceback.\n",
      "\u001b[1;31mSystemExit\u001b[0m\u001b[1;31m:\u001b[0m 0\n"
     ]
    },
    {
     "name": "stderr",
     "output_type": "stream",
     "text": [
      "c:\\Users\\pari0\\anaconda3\\envs\\simulator\\lib\\site-packages\\IPython\\core\\interactiveshell.py:3561: UserWarning: To exit: use 'exit', 'quit', or Ctrl-D.\n",
      "  warn(\"To exit: use 'exit', 'quit', or Ctrl-D.\", stacklevel=1)\n"
     ]
    }
   ],
   "source": [
    "## Ex 5-21. QTableWidget.\n",
    "\n",
    "import sys\n",
    "from PyQt5.QtWidgets import *\n",
    "\n",
    "\n",
    "class MyApp(QWidget):\n",
    "\n",
    "    def __init__(self):\n",
    "        super().__init__()\n",
    "        self.initUI()\n",
    "\n",
    "    def initUI(self):\n",
    "\n",
    "        self.tableWidget = QTableWidget()\n",
    "        self.tableWidget.setRowCount(20)\n",
    "        self.tableWidget.setColumnCount(2)\n",
    "\n",
    "        self.tableWidget.setEditTriggers(QAbstractItemView.NoEditTriggers)\n",
    "        # self.tableWidget.setEditTriggers(QAbstractItemView.DoubleClicked)\n",
    "        # self.tableWidget.setEditTriggers(QAbstractItemView.AllEditTriggers)\n",
    "\n",
    "        # self.tableWidget.horizontalHeader().setSectionResizeMode(QHeaderView.Stretch)\n",
    "        self.tableWidget.horizontalHeader().setSectionResizeMode(QHeaderView.ResizeToContents)\n",
    "\n",
    "        for i in range(20):\n",
    "            for j in range(2):\n",
    "                self.tableWidget.setItem(i, j, QTableWidgetItem(str(i+j)))\n",
    "\n",
    "        layout = QVBoxLayout()\n",
    "        layout.addWidget(self.tableWidget)\n",
    "        self.setLayout(layout)\n",
    "\n",
    "        self.setWindowTitle('QTableWidget')\n",
    "        self.setGeometry(300, 100, 600, 400)\n",
    "        self.show()\n",
    "\n",
    "\n",
    "if __name__ == '__main__':\n",
    "    app = QApplication(sys.argv)\n",
    "    ex = MyApp()\n",
    "    sys.exit(app.exec_())\n"
   ]
  },
  {
   "cell_type": "code",
   "execution_count": 1,
   "metadata": {},
   "outputs": [
    {
     "ename": "SystemExit",
     "evalue": "0",
     "output_type": "error",
     "traceback": [
      "An exception has occurred, use %tb to see the full traceback.\n",
      "\u001b[1;31mSystemExit\u001b[0m\u001b[1;31m:\u001b[0m 0\n"
     ]
    },
    {
     "name": "stderr",
     "output_type": "stream",
     "text": [
      "c:\\Users\\pari0\\anaconda3\\envs\\simulator\\lib\\site-packages\\IPython\\core\\interactiveshell.py:3561: UserWarning: To exit: use 'exit', 'quit', or Ctrl-D.\n",
      "  warn(\"To exit: use 'exit', 'quit', or Ctrl-D.\", stacklevel=1)\n"
     ]
    }
   ],
   "source": [
    "## Ex 6-1. QInputDialog.\n",
    "\n",
    "import sys\n",
    "from PyQt5.QtWidgets import (QApplication, QWidget, QPushButton, QLineEdit, QInputDialog)\n",
    "\n",
    "\n",
    "class MyApp(QWidget):\n",
    "\n",
    "    def __init__(self):\n",
    "        super().__init__()\n",
    "        self.initUI()\n",
    "\n",
    "    def initUI(self):\n",
    "        self.btn = QPushButton('Dialog', self)\n",
    "        self.btn.move(30, 30)\n",
    "        self.btn.clicked.connect(self.showDialog)\n",
    "\n",
    "        self.le = QLineEdit(self)\n",
    "        self.le.move(120, 35)\n",
    "\n",
    "        self.setWindowTitle('Input dialog')\n",
    "        self.setGeometry(300, 300, 300, 200)\n",
    "        self.show()\n",
    "\n",
    "    def showDialog(self):\n",
    "        text, ok = QInputDialog.getText(self, 'Input Dialog', 'Enter your name:')\n",
    "\n",
    "        if ok:\n",
    "            self.le.setText(str(text))\n",
    "\n",
    "\n",
    "if __name__ == '__main__':\n",
    "    app = QApplication(sys.argv)\n",
    "    ex = MyApp()\n",
    "    sys.exit(app.exec_())\n"
   ]
  },
  {
   "cell_type": "code",
   "execution_count": 1,
   "metadata": {},
   "outputs": [
    {
     "ename": "SystemExit",
     "evalue": "0",
     "output_type": "error",
     "traceback": [
      "An exception has occurred, use %tb to see the full traceback.\n",
      "\u001b[1;31mSystemExit\u001b[0m\u001b[1;31m:\u001b[0m 0\n"
     ]
    },
    {
     "name": "stderr",
     "output_type": "stream",
     "text": [
      "c:\\Users\\pari0\\anaconda3\\envs\\simulator\\lib\\site-packages\\IPython\\core\\interactiveshell.py:3561: UserWarning: To exit: use 'exit', 'quit', or Ctrl-D.\n",
      "  warn(\"To exit: use 'exit', 'quit', or Ctrl-D.\", stacklevel=1)\n"
     ]
    }
   ],
   "source": [
    "## Ex 6-2. QColorDialog.\n",
    "\n",
    "import sys\n",
    "from PyQt5.QtWidgets import QApplication, QWidget, QPushButton, QFrame, QColorDialog\n",
    "from PyQt5.QtGui import QColor\n",
    "\n",
    "\n",
    "class MyApp(QWidget):\n",
    "\n",
    "    def __init__(self):\n",
    "        super().__init__()\n",
    "        self.initUI()\n",
    "\n",
    "    def initUI(self):\n",
    "        col = QColor(0, 0, 0)\n",
    "\n",
    "        self.btn = QPushButton('Dialog', self)\n",
    "        self.btn.move(30, 30)\n",
    "        self.btn.clicked.connect(self.showDialog)\n",
    "\n",
    "        self.frm = QFrame(self)\n",
    "        self.frm.setStyleSheet('QWidget { background-color: %s }' % col.name())\n",
    "        self.frm.setGeometry(130, 35, 100, 100)\n",
    "\n",
    "        self.setWindowTitle('Color Dialog')\n",
    "        self.setGeometry(300, 300, 250, 180)\n",
    "        self.show()\n",
    "\n",
    "    def showDialog(self):\n",
    "        col = QColorDialog.getColor()\n",
    "\n",
    "        if col.isValid():\n",
    "            self.frm.setStyleSheet('QWidget { background-color: %s }' % col.name())\n",
    "\n",
    "\n",
    "if __name__ == '__main__':\n",
    "    app = QApplication(sys.argv)\n",
    "    ex = MyApp()\n",
    "    sys.exit(app.exec_())\n"
   ]
  },
  {
   "cell_type": "code",
   "execution_count": 1,
   "metadata": {},
   "outputs": [
    {
     "ename": "SystemExit",
     "evalue": "0",
     "output_type": "error",
     "traceback": [
      "An exception has occurred, use %tb to see the full traceback.\n",
      "\u001b[1;31mSystemExit\u001b[0m\u001b[1;31m:\u001b[0m 0\n"
     ]
    },
    {
     "name": "stderr",
     "output_type": "stream",
     "text": [
      "c:\\Users\\pari0\\anaconda3\\envs\\simulator\\lib\\site-packages\\IPython\\core\\interactiveshell.py:3561: UserWarning: To exit: use 'exit', 'quit', or Ctrl-D.\n",
      "  warn(\"To exit: use 'exit', 'quit', or Ctrl-D.\", stacklevel=1)\n"
     ]
    }
   ],
   "source": [
    "## Ex 6-3. QFontDialog.\n",
    "\n",
    "import sys\n",
    "from PyQt5.QtWidgets import (QApplication, QWidget, QVBoxLayout\n",
    ", QPushButton, QSizePolicy, QLabel, QFontDialog)\n",
    "\n",
    "\n",
    "class MyApp(QWidget):\n",
    "\n",
    "    def __init__(self):\n",
    "        super().__init__()\n",
    "        self.initUI()\n",
    "\n",
    "    def initUI(self):\n",
    "        btn = QPushButton('Dialog', self)\n",
    "        btn.setSizePolicy(QSizePolicy.Fixed, QSizePolicy.Fixed)\n",
    "        btn.move(20, 20)\n",
    "        btn.clicked.connect(self.showDialog)\n",
    "\n",
    "        vbox = QVBoxLayout()\n",
    "        vbox.addWidget(btn)\n",
    "\n",
    "        self.lbl = QLabel('The quick brown fox jumps over the lazy dog', self)\n",
    "        self.lbl.move(130, 20)\n",
    "\n",
    "        vbox.addWidget(self.lbl)\n",
    "        self.setLayout(vbox)\n",
    "\n",
    "        self.setWindowTitle('Font Dialog')\n",
    "        self.setGeometry(300, 300, 250, 180)\n",
    "        self.show()\n",
    "\n",
    "    def showDialog(self):\n",
    "        font, ok = QFontDialog.getFont()\n",
    "\n",
    "        if ok:\n",
    "           self.lbl.setFont(font)\n",
    "\n",
    "\n",
    "if __name__ == '__main__':\n",
    "    app = QApplication(sys.argv)\n",
    "    ex = MyApp()\n",
    "    sys.exit(app.exec_())\n"
   ]
  },
  {
   "cell_type": "code",
   "execution_count": 1,
   "metadata": {},
   "outputs": [
    {
     "ename": "SystemExit",
     "evalue": "0",
     "output_type": "error",
     "traceback": [
      "An exception has occurred, use %tb to see the full traceback.\n",
      "\u001b[1;31mSystemExit\u001b[0m\u001b[1;31m:\u001b[0m 0\n"
     ]
    },
    {
     "name": "stderr",
     "output_type": "stream",
     "text": [
      "c:\\Users\\pari0\\anaconda3\\envs\\simulator\\lib\\site-packages\\IPython\\core\\interactiveshell.py:3561: UserWarning: To exit: use 'exit', 'quit', or Ctrl-D.\n",
      "  warn(\"To exit: use 'exit', 'quit', or Ctrl-D.\", stacklevel=1)\n"
     ]
    }
   ],
   "source": [
    "## Ex 6-4. QFileDialog.\n",
    "\n",
    "import sys\n",
    "from PyQt5.QtWidgets import QApplication, QMainWindow, QTextEdit, QAction, QFileDialog\n",
    "from PyQt5.QtGui import QIcon\n",
    "\n",
    "\n",
    "class MyApp(QMainWindow):\n",
    "\n",
    "    def __init__(self):\n",
    "        super().__init__()\n",
    "        self.initUI()\n",
    "\n",
    "    def initUI(self):\n",
    "        self.textEdit = QTextEdit()\n",
    "        self.setCentralWidget(self.textEdit)\n",
    "        self.statusBar()\n",
    "\n",
    "        openFile = QAction(QIcon('open.png'), 'Open', self)\n",
    "        openFile.setShortcut('Ctrl+O')\n",
    "        openFile.setStatusTip('Open New File')\n",
    "        openFile.triggered.connect(self.showDialog)\n",
    "\n",
    "        menubar = self.menuBar()\n",
    "        menubar.setNativeMenuBar(False)\n",
    "        fileMenu = menubar.addMenu('&File')\n",
    "        fileMenu.addAction(openFile)\n",
    "\n",
    "        self.setWindowTitle('File Dialog')\n",
    "        self.setGeometry(300, 300, 300, 200)\n",
    "        self.show()\n",
    "\n",
    "    def showDialog(self):\n",
    "        fname = QFileDialog.getOpenFileName(self, 'Open file', './')\n",
    "\n",
    "        if fname[0]:\n",
    "            f = open(fname[0], 'r')\n",
    "\n",
    "            with f:\n",
    "                data = f.read()\n",
    "                self.textEdit.setText(data)\n",
    "\n",
    "\n",
    "if __name__ == '__main__':\n",
    "    app = QApplication(sys.argv)\n",
    "    ex = MyApp()\n",
    "    sys.exit(app.exec_())\n"
   ]
  },
  {
   "cell_type": "code",
   "execution_count": 1,
   "metadata": {},
   "outputs": [
    {
     "ename": "SystemExit",
     "evalue": "0",
     "output_type": "error",
     "traceback": [
      "An exception has occurred, use %tb to see the full traceback.\n",
      "\u001b[1;31mSystemExit\u001b[0m\u001b[1;31m:\u001b[0m 0\n"
     ]
    },
    {
     "name": "stderr",
     "output_type": "stream",
     "text": [
      "c:\\Users\\pari0\\anaconda3\\envs\\simulator\\lib\\site-packages\\IPython\\core\\interactiveshell.py:3561: UserWarning: To exit: use 'exit', 'quit', or Ctrl-D.\n",
      "  warn(\"To exit: use 'exit', 'quit', or Ctrl-D.\", stacklevel=1)\n"
     ]
    }
   ],
   "source": [
    "## Ex 6-5. QMessageBox.\n",
    "\n",
    "import sys\n",
    "from PyQt5.QtWidgets import QApplication, QWidget, QMessageBox\n",
    "\n",
    "\n",
    "class MyApp(QWidget):\n",
    "\n",
    "    def __init__(self):\n",
    "        super().__init__()\n",
    "        self.initUI()\n",
    "\n",
    "    def initUI(self):\n",
    "        self.setWindowTitle('QMessageBox')\n",
    "        self.setGeometry(300, 300, 300, 200)\n",
    "        self.show()\n",
    "\n",
    "    def closeEvent(self, event):\n",
    "        reply = QMessageBox.question(self, 'Message', 'Are you sure to quit?',\n",
    "                                    QMessageBox.Yes | QMessageBox.No, QMessageBox.No)\n",
    "\n",
    "        if reply == QMessageBox.Yes:\n",
    "            event.accept()\n",
    "        else:\n",
    "            event.ignore()\n",
    "\n",
    "\n",
    "if __name__ == '__main__':\n",
    "   app = QApplication(sys.argv)\n",
    "   ex = MyApp()\n",
    "   sys.exit(app.exec_())\n"
   ]
  },
  {
   "cell_type": "code",
   "execution_count": 1,
   "metadata": {},
   "outputs": [
    {
     "ename": "SystemExit",
     "evalue": "0",
     "output_type": "error",
     "traceback": [
      "An exception has occurred, use %tb to see the full traceback.\n",
      "\u001b[1;31mSystemExit\u001b[0m\u001b[1;31m:\u001b[0m 0\n"
     ]
    },
    {
     "name": "stderr",
     "output_type": "stream",
     "text": [
      "c:\\Users\\pari0\\anaconda3\\envs\\simulator\\lib\\site-packages\\IPython\\core\\interactiveshell.py:3561: UserWarning: To exit: use 'exit', 'quit', or Ctrl-D.\n",
      "  warn(\"To exit: use 'exit', 'quit', or Ctrl-D.\", stacklevel=1)\n"
     ]
    }
   ],
   "source": [
    "## Ex 7-1. 연결하기.\n",
    "\n",
    "import sys\n",
    "from PyQt5.QtWidgets import QApplication, QWidget, QLCDNumber, QDial, QVBoxLayout\n",
    "\n",
    "\n",
    "class MyApp(QWidget):\n",
    "\n",
    "    def __init__(self):\n",
    "        super().__init__()\n",
    "        self.initUI()\n",
    "\n",
    "    def initUI(self):\n",
    "        lcd = QLCDNumber(self)\n",
    "        dial = QDial(self)\n",
    "        dial.setRange(0, 100)\n",
    "\n",
    "        vbox = QVBoxLayout()\n",
    "        vbox.addWidget(lcd)\n",
    "        vbox.addWidget(dial)\n",
    "        self.setLayout(vbox)\n",
    "\n",
    "        dial.valueChanged.connect(lcd.display)\n",
    "\n",
    "        self.setWindowTitle('Signal and Slot')\n",
    "        self.setGeometry(300, 300, 200, 200)\n",
    "        self.show()\n",
    "\n",
    "\n",
    "if __name__ == '__main__':\n",
    "    app = QApplication(sys.argv)\n",
    "    ex = MyApp()\n",
    "    sys.exit(app.exec_())\n"
   ]
  },
  {
   "cell_type": "code",
   "execution_count": 1,
   "metadata": {},
   "outputs": [
    {
     "ename": "SystemExit",
     "evalue": "0",
     "output_type": "error",
     "traceback": [
      "An exception has occurred, use %tb to see the full traceback.\n",
      "\u001b[1;31mSystemExit\u001b[0m\u001b[1;31m:\u001b[0m 0\n"
     ]
    },
    {
     "name": "stderr",
     "output_type": "stream",
     "text": [
      "c:\\Users\\pari0\\anaconda3\\envs\\simulator\\lib\\site-packages\\IPython\\core\\interactiveshell.py:3561: UserWarning: To exit: use 'exit', 'quit', or Ctrl-D.\n",
      "  warn(\"To exit: use 'exit', 'quit', or Ctrl-D.\", stacklevel=1)\n"
     ]
    }
   ],
   "source": [
    "## Ex 7-2. 이벤트 핸들러 만들기.\n",
    "\n",
    "import sys\n",
    "from PyQt5.QtWidgets import (QApplication, QWidget\n",
    ", QLCDNumber, QDial, QPushButton, QVBoxLayout, QHBoxLayout)\n",
    "\n",
    "\n",
    "class MyApp(QWidget):\n",
    "\n",
    "    def __init__(self):\n",
    "        super().__init__()\n",
    "        self.initUI()\n",
    "\n",
    "    def initUI(self):\n",
    "        lcd = QLCDNumber(self)\n",
    "        dial = QDial(self)\n",
    "        btn1 = QPushButton('Big', self)\n",
    "        btn2 = QPushButton('Small', self)\n",
    "\n",
    "        hbox = QHBoxLayout()\n",
    "        hbox.addWidget(btn1)\n",
    "        hbox.addWidget(btn2)\n",
    "\n",
    "        vbox = QVBoxLayout()\n",
    "        vbox.addWidget(lcd)\n",
    "        vbox.addWidget(dial)\n",
    "        vbox.addLayout(hbox)\n",
    "        self.setLayout(vbox)\n",
    "\n",
    "        dial.valueChanged.connect(lcd.display)\n",
    "        btn1.clicked.connect(self.resizeBig)\n",
    "        btn2.clicked.connect(self.resizeSmall)\n",
    "\n",
    "        self.setWindowTitle('Signal and Slot')\n",
    "        self.setGeometry(200, 200, 200, 250)\n",
    "        self.show()\n",
    "\n",
    "    def resizeBig(self):\n",
    "        self.resize(400, 500)\n",
    "\n",
    "    def resizeSmall(self):\n",
    "        self.resize(200, 250)\n",
    "\n",
    "\n",
    "if __name__ == '__main__':\n",
    "    app = QApplication(sys.argv)\n",
    "    ex = MyApp()\n",
    "    sys.exit(app.exec_())\n"
   ]
  },
  {
   "cell_type": "code",
   "execution_count": 1,
   "metadata": {},
   "outputs": [
    {
     "ename": "SystemExit",
     "evalue": "0",
     "output_type": "error",
     "traceback": [
      "An exception has occurred, use %tb to see the full traceback.\n",
      "\u001b[1;31mSystemExit\u001b[0m\u001b[1;31m:\u001b[0m 0\n"
     ]
    },
    {
     "name": "stderr",
     "output_type": "stream",
     "text": [
      "c:\\Users\\pari0\\anaconda3\\envs\\simulator\\lib\\site-packages\\IPython\\core\\interactiveshell.py:3561: UserWarning: To exit: use 'exit', 'quit', or Ctrl-D.\n",
      "  warn(\"To exit: use 'exit', 'quit', or Ctrl-D.\", stacklevel=1)\n"
     ]
    }
   ],
   "source": [
    "## Ex 7-3. 이벤트 핸들러 재구성하기.\n",
    "\n",
    "import sys\n",
    "from PyQt5.QtCore import Qt\n",
    "from PyQt5.QtWidgets import QApplication, QWidget\n",
    "\n",
    "\n",
    "class MyApp(QWidget):\n",
    "\n",
    "    def __init__(self):\n",
    "        super().__init__()\n",
    "        self.initUI()\n",
    "\n",
    "    def initUI(self):\n",
    "        self.setWindowTitle('Reimplementing event handler')\n",
    "        self.setGeometry(300, 300, 300, 200)\n",
    "        self.show()\n",
    "\n",
    "    def keyPressEvent(self, e):\n",
    "        if e.key() == Qt.Key_Escape:\n",
    "            self.close()\n",
    "        elif e.key() == Qt.Key_F:\n",
    "            self.showFullScreen()\n",
    "        elif e.key() == Qt.Key_N:\n",
    "            self.showNormal()\n",
    "\n",
    "\n",
    "if __name__ == '__main__':\n",
    "    app = QApplication(sys.argv)\n",
    "    ex = MyApp()\n",
    "    sys.exit(app.exec_())\n"
   ]
  },
  {
   "cell_type": "code",
   "execution_count": 1,
   "metadata": {},
   "outputs": [
    {
     "ename": "SystemExit",
     "evalue": "0",
     "output_type": "error",
     "traceback": [
      "An exception has occurred, use %tb to see the full traceback.\n",
      "\u001b[1;31mSystemExit\u001b[0m\u001b[1;31m:\u001b[0m 0\n"
     ]
    },
    {
     "name": "stderr",
     "output_type": "stream",
     "text": [
      "c:\\Users\\pari0\\anaconda3\\envs\\simulator\\lib\\site-packages\\IPython\\core\\interactiveshell.py:3561: UserWarning: To exit: use 'exit', 'quit', or Ctrl-D.\n",
      "  warn(\"To exit: use 'exit', 'quit', or Ctrl-D.\", stacklevel=1)\n"
     ]
    }
   ],
   "source": [
    "## Ex 7-4. 이벤트 핸들러 재구성하기2.\n",
    "\n",
    "import sys\n",
    "from PyQt5.QtWidgets import QApplication, QWidget, QLabel\n",
    "\n",
    "\n",
    "class MyApp(QWidget):\n",
    "\n",
    "    def __init__(self):\n",
    "        super().__init__()\n",
    "        self.initUI()\n",
    "\n",
    "    def initUI(self):\n",
    "        x = 0\n",
    "        y = 0\n",
    "\n",
    "        self.text = 'x: {0}, y: {1}'.format(x, y)\n",
    "        self.label = QLabel(self.text, self)\n",
    "        self.label.move(20, 20)\n",
    "\n",
    "        self.setMouseTracking(True)\n",
    "\n",
    "        self.setWindowTitle('Reimplementing event handler')\n",
    "        self.setGeometry(300, 300, 300, 200)\n",
    "        self.show()\n",
    "\n",
    "    def mouseMoveEvent(self, e):\n",
    "        x = e.x()\n",
    "        y = e.y()\n",
    "\n",
    "        text = 'x: {0}, y: {1}'.format(x, y)\n",
    "        self.label.setText(text)\n",
    "        self.label.adjustSize()\n",
    "\n",
    "\n",
    "if __name__ == '__main__':\n",
    "    app = QApplication(sys.argv)\n",
    "    ex = MyApp()\n",
    "    sys.exit(app.exec_())\n"
   ]
  },
  {
   "cell_type": "code",
   "execution_count": 1,
   "metadata": {},
   "outputs": [
    {
     "ename": "SystemExit",
     "evalue": "0",
     "output_type": "error",
     "traceback": [
      "An exception has occurred, use %tb to see the full traceback.\n",
      "\u001b[1;31mSystemExit\u001b[0m\u001b[1;31m:\u001b[0m 0\n"
     ]
    },
    {
     "name": "stderr",
     "output_type": "stream",
     "text": [
      "c:\\Users\\pari0\\anaconda3\\envs\\simulator\\lib\\site-packages\\IPython\\core\\interactiveshell.py:3561: UserWarning: To exit: use 'exit', 'quit', or Ctrl-D.\n",
      "  warn(\"To exit: use 'exit', 'quit', or Ctrl-D.\", stacklevel=1)\n"
     ]
    }
   ],
   "source": [
    "## Ex 7-5. 사용자 정의 시그널.\n",
    "\n",
    "import sys\n",
    "from PyQt5.QtCore import pyqtSignal, QObject\n",
    "from PyQt5.QtWidgets import QApplication, QMainWindow\n",
    "\n",
    "\n",
    "class Communicate(QObject):\n",
    "\n",
    "    closeApp = pyqtSignal()\n",
    "\n",
    "\n",
    "class MyApp(QMainWindow):\n",
    "\n",
    "    def __init__(self):\n",
    "        super().__init__()\n",
    "        self.initUI()\n",
    "\n",
    "    def initUI(self):\n",
    "        self.c = Communicate()\n",
    "        self.c.closeApp.connect(self.close)\n",
    "\n",
    "        self.setWindowTitle('Emitting Signal')\n",
    "        self.setGeometry(300, 300, 300, 200)\n",
    "        self.show()\n",
    "\n",
    "    def mousePressEvent(self, e):\n",
    "        self.c.closeApp.emit()\n",
    "\n",
    "\n",
    "if __name__ == '__main__':\n",
    "    app = QApplication(sys.argv)\n",
    "    ex = MyApp()\n",
    "    sys.exit(app.exec_())\n"
   ]
  },
  {
   "cell_type": "code",
   "execution_count": 1,
   "metadata": {},
   "outputs": [
    {
     "ename": "AttributeError",
     "evalue": "'MyApp' object has no attribute 'tableWidget'",
     "output_type": "error",
     "traceback": [
      "\u001b[1;31m---------------------------------------------------------------------------\u001b[0m",
      "\u001b[1;31mAttributeError\u001b[0m                            Traceback (most recent call last)",
      "Cell \u001b[1;32mIn[1], line 61\u001b[0m\n\u001b[0;32m     59\u001b[0m \u001b[38;5;28;01mif\u001b[39;00m \u001b[38;5;18m__name__\u001b[39m \u001b[38;5;241m==\u001b[39m \u001b[38;5;124m'\u001b[39m\u001b[38;5;124m__main__\u001b[39m\u001b[38;5;124m'\u001b[39m:\n\u001b[0;32m     60\u001b[0m     app \u001b[38;5;241m=\u001b[39m QApplication(sys\u001b[38;5;241m.\u001b[39margv)\n\u001b[1;32m---> 61\u001b[0m     ex \u001b[38;5;241m=\u001b[39m \u001b[43mMyApp\u001b[49m\u001b[43m(\u001b[49m\u001b[43m)\u001b[49m\n\u001b[0;32m     62\u001b[0m     sys\u001b[38;5;241m.\u001b[39mexit(app\u001b[38;5;241m.\u001b[39mexec_())\n",
      "Cell \u001b[1;32mIn[1], line 10\u001b[0m, in \u001b[0;36mMyApp.__init__\u001b[1;34m(self)\u001b[0m\n\u001b[0;32m      8\u001b[0m \u001b[38;5;28;01mdef\u001b[39;00m \u001b[38;5;21m__init__\u001b[39m(\u001b[38;5;28mself\u001b[39m):\n\u001b[0;32m      9\u001b[0m     \u001b[38;5;28msuper\u001b[39m()\u001b[38;5;241m.\u001b[39m\u001b[38;5;21m__init__\u001b[39m()\n\u001b[1;32m---> 10\u001b[0m     \u001b[38;5;28;43mself\u001b[39;49m\u001b[38;5;241;43m.\u001b[39;49m\u001b[43minitUI\u001b[49m\u001b[43m(\u001b[49m\u001b[43m)\u001b[49m\n",
      "Cell \u001b[1;32mIn[1], line 22\u001b[0m, in \u001b[0;36mMyApp.initUI\u001b[1;34m(self)\u001b[0m\n\u001b[0;32m     20\u001b[0m \u001b[38;5;66;03m# Setup layout\u001b[39;00m\n\u001b[0;32m     21\u001b[0m layout \u001b[38;5;241m=\u001b[39m QVBoxLayout()\n\u001b[1;32m---> 22\u001b[0m layout\u001b[38;5;241m.\u001b[39maddWidget(\u001b[38;5;28;43mself\u001b[39;49m\u001b[38;5;241;43m.\u001b[39;49m\u001b[43mtableWidget\u001b[49m)\n\u001b[0;32m     23\u001b[0m layout\u001b[38;5;241m.\u001b[39maddWidget(\u001b[38;5;28mself\u001b[39m\u001b[38;5;241m.\u001b[39mplotButton)\n\u001b[0;32m     24\u001b[0m \u001b[38;5;28mself\u001b[39m\u001b[38;5;241m.\u001b[39msetLayout(layout)\n",
      "\u001b[1;31mAttributeError\u001b[0m: 'MyApp' object has no attribute 'tableWidget'"
     ]
    }
   ],
   "source": [
    "import sys\n",
    "from PyQt5.QtWidgets import *\n",
    "from matplotlib.backends.backend_qt5agg import FigureCanvasQTAgg as FigureCanvas\n",
    "import matplotlib.pyplot as plt\n",
    "\n",
    "class MyApp(QWidget):\n",
    "\n",
    "    def __init__(self):\n",
    "        super().__init__()\n",
    "        self.initUI()\n",
    "\n",
    "    def initUI(self):\n",
    "        # Table setup...\n",
    "        # [Your existing table setup code]\n",
    "\n",
    "        # Button to generate plot\n",
    "        self.plotButton = QPushButton('Plot Data')\n",
    "        self.plotButton.clicked.connect(self.plotData)\n",
    "\n",
    "        # Setup layout\n",
    "        layout = QVBoxLayout()\n",
    "        layout.addWidget(self.tableWidget)\n",
    "        layout.addWidget(self.plotButton)\n",
    "        self.setLayout(layout)\n",
    "\n",
    "        # Plot setup\n",
    "        self.figure = plt.figure()\n",
    "        self.canvas = FigureCanvas(self.figure)\n",
    "\n",
    "        self.setWindowTitle('QTableWidget with Bar Plot')\n",
    "        self.setGeometry(300, 100, 1000, 600)\n",
    "        self.show()\n",
    "\n",
    "    def plotData(self):\n",
    "        data = []\n",
    "        for i in range(self.tableWidget.rowCount()):\n",
    "            row_data = []\n",
    "            for j in range(self.tableWidget.columnCount()):\n",
    "                item = self.tableWidget.item(i, j)\n",
    "                if item is not None:\n",
    "                    row_data.append(int(item.text()))\n",
    "                else:\n",
    "                    row_data.append(0)\n",
    "            data.append(row_data)\n",
    "\n",
    "        # Clear the previous figure\n",
    "        self.figure.clear()\n",
    "\n",
    "        # Create an axis\n",
    "        ax = self.figure.add_subplot(111)\n",
    "\n",
    "        # Plot data\n",
    "        ax.bar(range(len(data)), [sum(row) for row in data])\n",
    "\n",
    "        # Refresh canvas\n",
    "        self.canvas.draw()\n",
    "        self.layout().addWidget(self.canvas)\n",
    "\n",
    "if __name__ == '__main__':\n",
    "    app = QApplication(sys.argv)\n",
    "    ex = MyApp()\n",
    "    sys.exit(app.exec_())\n"
   ]
  },
  {
   "cell_type": "code",
   "execution_count": 1,
   "metadata": {},
   "outputs": [],
   "source": [
    "import sys\n",
    "from PyQt5.QtWidgets import (QApplication, QMainWindow)\n",
    "from PyQt5.QtChart import QChart, QChartView, QHorizontalBarSeries, QBarSet, QBarCategoryAxis, QValueAxis\n",
    "from PyQt5.Qt import Qt\n",
    "from PyQt5.QtGui import QPainter\n",
    "\n",
    "class MainWindow(QMainWindow):\n",
    "\tdef __init__(self):\n",
    "\t\tsuper().__init__()\n",
    "\t\tself.resize(800, 600)\n",
    "\n",
    "\t\tset0 = QBarSet('X0')\n",
    "\t\tset1 = QBarSet('X1')\n",
    "\t\tset2 = QBarSet('X2')\n",
    "\t\tset3 = QBarSet('X3')\n",
    "\t\tset4 = QBarSet('X4')\n",
    "\n",
    "\t\tset0.append([1, 2, 3, 4, 5, 6])\n",
    "\t\tset1.append([5, 0, 0, 4, 0, 7])\n",
    "\t\tset2.append([3, 5, 8, 13, 8, 5])\n",
    "\t\tset3.append([5, 6, 7, 3, 4, 5])\n",
    "\t\tset4.append([9, 7, 5, 3, 1, 2])\n",
    "\n",
    "\t\tseries = QHorizontalBarSeries()\n",
    "\t\tseries.append(set0)\n",
    "\t\tseries.append(set1)\n",
    "\t\tseries.append(set2)\n",
    "\t\tseries.append(set3)\n",
    "\t\tseries.append(set4)\n",
    "\n",
    "\t\tchart = QChart()\n",
    "\t\tchart.addSeries(series)\n",
    "\t\tchart.setTitle('Horizontal Bar Chart Demo')\n",
    "\n",
    "\t\tchart.setAnimationOptions(QChart.SeriesAnimations)\n",
    "\n",
    "\t\tmonths = ('Jan', 'Feb', 'Mar', 'Apr', 'May', 'June')\n",
    "\n",
    "\t\taxisY = QBarCategoryAxis()\n",
    "\t\taxisY.append(months)\n",
    "\t\tchart.addAxis(axisY, Qt.AlignLeft)\n",
    "\t\tseries.attachAxis(axisY)\n",
    "\n",
    "\t\taxisX = QValueAxis()\n",
    "\t\tchart.addAxis(axisX, Qt.AlignBottom)\n",
    "\t\tseries.attachAxis(axisX)\n",
    "\n",
    "\t\taxisX.applyNiceNumbers()\n",
    "\n",
    "\t\tchart.legend().setVisible(True)\n",
    "\t\tchart.legend().setAlignment(Qt.AlignBottom)\n",
    "\n",
    "\t\tchartView = QChartView(chart)\n",
    "\t\tchartView.setRenderHint(QPainter.Antialiasing)\n",
    "\t\tself.setCentralWidget(chartView)\n",
    "\n",
    "if __name__ == '__main__':\n",
    "\tapp = QApplication(sys.argv)\n",
    "\n",
    "\twindow = MainWindow()\n",
    "\twindow.show()\n",
    "\n",
    "\tsys.exit(app.exec_())"
   ]
  },
  {
   "cell_type": "code",
   "execution_count": 1,
   "metadata": {},
   "outputs": [
    {
     "ename": "AttributeError",
     "evalue": "'QFrame' object has no attribute 'addWidget'",
     "output_type": "error",
     "traceback": [
      "\u001b[1;31m---------------------------------------------------------------------------\u001b[0m",
      "\u001b[1;31mAttributeError\u001b[0m                            Traceback (most recent call last)",
      "Cell \u001b[1;32mIn[1], line 44\u001b[0m\n\u001b[0;32m     42\u001b[0m \u001b[38;5;28;01mif\u001b[39;00m \u001b[38;5;18m__name__\u001b[39m \u001b[38;5;241m==\u001b[39m \u001b[38;5;124m'\u001b[39m\u001b[38;5;124m__main__\u001b[39m\u001b[38;5;124m'\u001b[39m:\n\u001b[0;32m     43\u001b[0m     app \u001b[38;5;241m=\u001b[39m QApplication(sys\u001b[38;5;241m.\u001b[39margv)\n\u001b[1;32m---> 44\u001b[0m     ex \u001b[38;5;241m=\u001b[39m \u001b[43mMyApp\u001b[49m\u001b[43m(\u001b[49m\u001b[43m)\u001b[49m\n\u001b[0;32m     45\u001b[0m     sys\u001b[38;5;241m.\u001b[39mexit(app\u001b[38;5;241m.\u001b[39mexec_())\n",
      "Cell \u001b[1;32mIn[1], line 14\u001b[0m, in \u001b[0;36mMyApp.__init__\u001b[1;34m(self)\u001b[0m\n\u001b[0;32m     12\u001b[0m \u001b[38;5;28;01mdef\u001b[39;00m \u001b[38;5;21m__init__\u001b[39m(\u001b[38;5;28mself\u001b[39m):\n\u001b[0;32m     13\u001b[0m     \u001b[38;5;28msuper\u001b[39m()\u001b[38;5;241m.\u001b[39m\u001b[38;5;21m__init__\u001b[39m()\n\u001b[1;32m---> 14\u001b[0m     \u001b[38;5;28;43mself\u001b[39;49m\u001b[38;5;241;43m.\u001b[39;49m\u001b[43minitUI\u001b[49m\u001b[43m(\u001b[49m\u001b[43m)\u001b[49m\n",
      "Cell \u001b[1;32mIn[1], line 23\u001b[0m, in \u001b[0;36mMyApp.initUI\u001b[1;34m(self)\u001b[0m\n\u001b[0;32m     21\u001b[0m cell_1\u001b[38;5;241m.\u001b[39msetFrameShape(QFrame\u001b[38;5;241m.\u001b[39mBox)\n\u001b[0;32m     22\u001b[0m cell1_label \u001b[38;5;241m=\u001b[39m QLabel(\u001b[38;5;124m'\u001b[39m\u001b[38;5;124mhello\u001b[39m\u001b[38;5;124m'\u001b[39m)\n\u001b[1;32m---> 23\u001b[0m \u001b[43mcell_1\u001b[49m\u001b[38;5;241;43m.\u001b[39;49m\u001b[43maddWidget\u001b[49m(cell1_label)\n\u001b[0;32m     25\u001b[0m cell_2 \u001b[38;5;241m=\u001b[39m QFrame()\n\u001b[0;32m     26\u001b[0m cell_2\u001b[38;5;241m.\u001b[39msetFrameShape(QFrame\u001b[38;5;241m.\u001b[39mBox)\n",
      "\u001b[1;31mAttributeError\u001b[0m: 'QFrame' object has no attribute 'addWidget'"
     ]
    }
   ],
   "source": [
    "## Ex 5-9. QSplitter.\n",
    "\n",
    "import sys\n",
    "from PyQt5.QtWidgets import QApplication, QWidget, QHBoxLayout, QFrame, QSplitter,QVBoxLayout\n",
    "from PyQt5.QtCore import Qt\n",
    "from PyQt5.QtWidgets import QApplication, QWidget, QTableWidget, QVBoxLayout, QFrame, QLabel\n",
    "\n",
    "\n",
    "\n",
    "class MyApp(QWidget):\n",
    "\n",
    "    def __init__(self):\n",
    "        super().__init__()\n",
    "        self.initUI()\n",
    "\n",
    "    def initUI(self):\n",
    "        vbox = QVBoxLayout()\n",
    "        vbox.setContentsMargins(0, 0, 0, 0)\n",
    "        \n",
    "        cell_1 = QFrame()\n",
    "        cell_1.setFrameShape(QFrame.Box)\n",
    "        cell1_label = QLabel('hello')\n",
    "        cell_1.addWidget(cell1_label)\n",
    "        \n",
    "        cell_2 = QFrame()\n",
    "        cell_2.setFrameShape(QFrame.Box)\n",
    "        \n",
    "        cell_3 = QFrame()\n",
    "        cell_3.setFrameShape(QFrame.Box)\n",
    "\n",
    "\n",
    "        vbox.addWidget(cell_1)\n",
    "        vbox.addWidget(cell_2)\n",
    "        vbox.addWidget(cell_3)\n",
    "        self.setLayout(vbox)\n",
    "\n",
    "        self.setGeometry(300, 300, 300, 200)\n",
    "        self.setWindowTitle('QSplitter')\n",
    "        self.show()\n",
    "\n",
    "\n",
    "if __name__ == '__main__':\n",
    "    app = QApplication(sys.argv)\n",
    "    ex = MyApp()\n",
    "    sys.exit(app.exec_())\n"
   ]
  },
  {
   "cell_type": "code",
   "execution_count": 1,
   "metadata": {},
   "outputs": [],
   "source": [
    "from PyQt5.QtWidgets import QApplication, QWidget, QTableWidget, QVBoxLayout, QFrame, QLabel\n",
    "from PyQt5.QtCore import Qt\n",
    "import sys\n",
    "\n",
    "class ColoredCell(QWidget):\n",
    "    def __init__(self, text, color, parent=None):\n",
    "        super().__init__(parent)\n",
    "        self.initUI(text, color)\n",
    "\n",
    "    def initUI(self, text, color):\n",
    "        # Create a layout\n",
    "        layout = QVBoxLayout(self)\n",
    "        layout.setContentsMargins(0, 0, 0, 0)\n",
    "\n",
    "        # Create the frame and label\n",
    "        self.frame = QFrame(self)\n",
    "        self.frame.setFrameShape(QFrame.StyledPanel)\n",
    "        self.frame.setAutoFillBackground(True)\n",
    "\n",
    "        # Set the background color for the frame\n",
    "        palette = self.frame.palette()\n",
    "        palette.setColor(self.frame.backgroundRole(), color)\n",
    "        self.frame.setPalette(palette)\n",
    "\n",
    "        # Set the label with the desired text\n",
    "        self.label = QLabel(text, self)\n",
    "        self.label.setAlignment(Qt.AlignCenter)\n",
    "\n",
    "        # Add the label to the frame\n",
    "        layout.addWidget(self.label)\n",
    "        self.setLayout(layout)\n",
    "\n",
    "class MyApp(QWidget):\n",
    "    def __init__(self):\n",
    "        super().__init__()\n",
    "        self.initUI()\n",
    "\n",
    "    def initUI(self):\n",
    "        self.tableWidget = QTableWidget()\n",
    "        self.tableWidget.setRowCount(20)\n",
    "        self.tableWidget.setColumnCount(2)\n",
    "\n",
    "        # ... your code to populate the table ...\n",
    "\n",
    "        # Add custom widgets to the cells\n",
    "        for i in range(20):\n",
    "            colored_cell = ColoredCell('Hello', Qt.green)\n",
    "            self.tableWidget.setCellWidget(i, 0, colored_cell)\n",
    "\n",
    "        # Set up the rest of the layout\n",
    "        layout = QVBoxLayout()\n",
    "        layout.addWidget(self.tableWidget)\n",
    "        self.setLayout(layout)\n",
    "\n",
    "        self.setWindowTitle('QTableWidget')\n",
    "        self.setGeometry(300, 100, 1000, 600)\n",
    "        self.show()\n",
    "\n",
    "if __name__ == '__main__':\n",
    "    app = QApplication(sys.argv)\n",
    "    ex = MyApp()\n",
    "    sys.exit(app.exec_())\n"
   ]
  },
  {
   "cell_type": "code",
   "execution_count": 1,
   "metadata": {},
   "outputs": [],
   "source": [
    "import sys\n",
    "import sys\n",
    "from PyQt5.QtWidgets import *\n",
    "from matplotlib.backends.backend_qt5agg import FigureCanvasQTAgg as FigureCanvas\n",
    "import matplotlib.pyplot as plt\n",
    "from PyQt5.QtGui import QColor\n",
    "from PyQt5.QtWidgets import QWidget, QTableWidgetItem, QApplication, QTableWidget, QVBoxLayout, QWidget\n",
    "from PyQt5.QtCore import Qt, QRect\n",
    "from PyQt5.QtGui import QPainter, QColor\n",
    "\n",
    "from PyQt5.QtWidgets import QApplication, QWidget, QTableWidget, QTableWidgetItem, QVBoxLayout, QProgressBar\n",
    "class ProgressBarWithText(QWidget):\n",
    "    def __init__(self, value, max_value, parent=None):\n",
    "        super().__init__(parent)\n",
    "        self.initUI(value, max_value)\n",
    "\n",
    "    def initUI(self, value, max_value):\n",
    "        layout = QHBoxLayout(self)\n",
    "        layout.setContentsMargins(0, 0, 0, 0)\n",
    "\n",
    "        # Create the progress bar\n",
    "        self.progressBar = QProgressBar()\n",
    "        self.progressBar.setMaximum(max_value)\n",
    "        self.progressBar.setValue(value)\n",
    "        self.progressBar.setAlignment(Qt.AlignCenter)\n",
    "\n",
    "        # Consistent style for the progress bar\n",
    "        self.progressBar.setStyleSheet(\"\"\"\n",
    "            QProgressBar {\n",
    "                border: 2px solid grey;\n",
    "                border-radius: 5px;\n",
    "                background-color: #FFFFFF;\n",
    "            }\n",
    "            QProgressBar::chunk {\n",
    "                background-color: #87CEFA;  /* Green color */\n",
    "                width: 10px;  /* Chunk size */\n",
    "            }\n",
    "        \"\"\")\n",
    "\n",
    "        # Create the label for text\n",
    "        self.label = QLabel(f\"{value}\", self)\n",
    "        self.label.setAlignment(Qt.AlignCenter)\n",
    "        self.label.setContentsMargins(10, 0, 10, 0)\n",
    "\n",
    "        layout.addWidget(self.progressBar)\n",
    "        layout.addWidget(self.label)\n",
    "        self.setLayout(layout)\n",
    "\n",
    "        # Ensure the label is transparent and overlays the progress bar\n",
    "        self.label.setAttribute(Qt.WA_TransparentForMouseEvents)\n",
    "        self.label.setAttribute(Qt.WA_OpaquePaintEvent)  # Enable double buffering\n",
    "        self.label.setStyleSheet(\"background-color: transparent;\")\n"
   ]
  },
  {
   "cell_type": "code",
   "execution_count": 1,
   "metadata": {},
   "outputs": [],
   "source": [
    "import sys\n",
    "import sys\n",
    "from PyQt5.QtWidgets import *\n",
    "from matplotlib.backends.backend_qt5agg import FigureCanvasQTAgg as FigureCanvas\n",
    "import matplotlib.pyplot as plt\n",
    "from PyQt5.QtGui import QColor\n",
    "from PyQt5.QtWidgets import QWidget, QTableWidgetItem, QApplication, QTableWidget, QVBoxLayout, QWidget\n",
    "from PyQt5.QtCore import Qt, QRect\n",
    "from PyQt5.QtGui import QPainter, QColor\n",
    "from PyQt5.QtGui import QFont\n",
    "from PyQt5.QtWidgets import QApplication, QWidget, QTableWidget, QTableWidgetItem, QVBoxLayout, QProgressBar\n",
    "\n",
    "class MyApp(QWidget):\n",
    "    def __init__(self):\n",
    "        super().__init__()\n",
    "        self.initUI()\n",
    "\n",
    "    def initUI(self):\n",
    "        self.tableWidget = QTableWidget()\n",
    "        self.tableWidget.setRowCount(20)  # Set this to the number of data points you have\n",
    "        self.tableWidget.setColumnCount(2)  # One column for the bar chart\n",
    "\n",
    "        row_height = 12  # Height of each row\n",
    "        column_width = 120  # Width of the column\n",
    "        font = QFont()\n",
    "        font.setPointSize(8)\n",
    "\n",
    "        for i in range(20):\n",
    "            self.tableWidget.setRowHeight(i, row_height)\n",
    "\n",
    "        self.tableWidget.setColumnWidth(1, column_width)\n",
    "        self.tableWidget.setColumnWidth(0, 50)\n",
    "        \n",
    "        \n",
    "        # Data points for the bar chart\n",
    "        data_points = [20, 55, 80, 30, 70, 65, 85, 40, 50, 60 , 20, 55, 80, 30, 70, 65, 85, 40, 50, 60]\n",
    "        price = [2015, 2020, 2025, 2030, 2035, 2040, 2045, 2050, 2055, 2060 , 2065, 2070, 2075, 2080, 2085, 2090, 2095, 2100, 2105, 2110]\n",
    "\n",
    "        # Set up the bar chart\n",
    "        for i, value in enumerate(data_points):\n",
    "            \n",
    "            \n",
    "            text_item = QTableWidgetItem(f\"{price[len(price)-(i+1)]}\")\n",
    "            text_item.setFont(font)\n",
    "            text_item.setTextAlignment(Qt.AlignCenter)\n",
    "            text_item.setFlags(text_item.flags() & ~Qt.ItemIsSelectable & ~Qt.ItemIsEditable)\n",
    "            self.tableWidget.setItem(i, 0, text_item)\n",
    "            \n",
    "            \n",
    "            \n",
    "            # Create the progress bar\n",
    "            progress_bar = QProgressBar()\n",
    "            progress_bar.setMaximum(max(data_points))  # Set the scale of the chart\n",
    "            progress_bar.setValue(value)\n",
    "            progress_bar.setAlignment(Qt.AlignVCenter)  # Center the text\n",
    "\n",
    "            progress_bar.setFormat(f\"  {value}\")\n",
    "            \n",
    "            if i < 10 : \n",
    "            \n",
    "                progress_bar.setStyleSheet(\"\"\"\n",
    "                    QProgressBar {\n",
    "                        border: 1px solid grey;\n",
    "                        border-radius: 1px;\n",
    "                        background-color: #FFFFFF;\n",
    "                        padding : 0px;\n",
    "                        margin : 0px;\n",
    "                        font-size: 10px;\n",
    "                    }\n",
    "                    QProgressBar::chunk {\n",
    "                        background-color: #87CEFA;  /* Red color */\n",
    "                        width: 10px;  /* Chunk size */\n",
    "                        border-left: 3px solid transparent;\n",
    "                    }\n",
    "                \"\"\")\n",
    "                \n",
    "            else : \n",
    "                progress_bar.setStyleSheet(\"\"\"\n",
    "                    QProgressBar {\n",
    "                        border: 1px solid grey;\n",
    "                        border-radius: 1px;\n",
    "                        background-color: #FFFFFF;\n",
    "                        padding = 0px;\n",
    "                        font-size: 10px;\n",
    "                    }\n",
    "                    QProgressBar::chunk {\n",
    "                        background-color: #e5a3a3;  /* Red color */\n",
    "                        width: 10px;  /* Chunk size */\n",
    "                        border-left: 3px solid transparent;\n",
    "                    }\n",
    "                \"\"\")\n",
    "                \n",
    "                # Insert the progress bar into the table\n",
    "            self.tableWidget.setCellWidget(i, 1, progress_bar)\n",
    "\n",
    "        # Layout for the widget\n",
    "        layout = QVBoxLayout()\n",
    "        layout.addWidget(self.tableWidget)\n",
    "        self.setLayout(layout)\n",
    "\n",
    "        self.setWindowTitle('Progress Bar Chart')\n",
    "        self.setGeometry(300, 300, 300, 600)\n",
    "        self.show()\n",
    "\n",
    "if __name__ == '__main__':\n",
    "    app = QApplication(sys.argv)\n",
    "    ex = MyApp()\n",
    "    sys.exit(app.exec_())\n"
   ]
  }
 ],
 "metadata": {
  "kernelspec": {
   "display_name": "simulator",
   "language": "python",
   "name": "python3"
  },
  "language_info": {
   "codemirror_mode": {
    "name": "ipython",
    "version": 3
   },
   "file_extension": ".py",
   "mimetype": "text/x-python",
   "name": "python",
   "nbconvert_exporter": "python",
   "pygments_lexer": "ipython3",
   "version": "3.10.13"
  }
 },
 "nbformat": 4,
 "nbformat_minor": 2
}
